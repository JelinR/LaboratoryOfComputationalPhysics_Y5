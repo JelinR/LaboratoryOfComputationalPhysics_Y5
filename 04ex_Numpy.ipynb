{
 "cells": [
  {
   "cell_type": "markdown",
   "metadata": {},
   "source": [
    "### Numpy basics"
   ]
  },
  {
   "cell_type": "markdown",
   "metadata": {},
   "source": [
    "1\\. Find the row, column and overall means for the following matrix:\n",
    "\n",
    "```python\n",
    "m = np.arange(12).reshape((3,4))\n",
    "```"
   ]
  },
  {
   "cell_type": "code",
   "execution_count": 2,
   "metadata": {},
   "outputs": [
    {
     "name": "stdout",
     "output_type": "stream",
     "text": [
      "[[ 0  1  2  3]\n",
      " [ 4  5  6  7]\n",
      " [ 8  9 10 11]]\n",
      "[1.5 5.5 9.5]\n",
      "[4. 5. 6. 0.]\n",
      "5.5\n"
     ]
    }
   ],
   "source": [
    "import numpy as np\n",
    "m = np.arange(12).reshape((3,4))\n",
    "row_mean = np.zeros(3)\n",
    "col_mean = np.zeros(4)\n",
    "\n",
    "for (i, j) in zip(range(3), range(4)):\n",
    "    row_mean[i] = np.mean(m[i, :])\n",
    "    col_mean[j] = np.mean(m[:, j])\n",
    "\n",
    "#rowm = np.array([np.mean(x) for x in m[,:]])\n",
    "\n",
    "total_mean = np.mean(m)\n",
    "\n",
    "print(m)\n",
    "print(row_mean)\n",
    "print(col_mean)\n",
    "print(total_mean)"
   ]
  },
  {
   "cell_type": "code",
   "execution_count": 3,
   "metadata": {},
   "outputs": [
    {
     "name": "stdout",
     "output_type": "stream",
     "text": [
      "[1.5 5.5 9.5] [4. 5. 6. 7.] 5.5\n"
     ]
    }
   ],
   "source": [
    "import numpy as np\n",
    "\n",
    "m = np.arange(12).reshape((3,4))\n",
    "rmean = m.mean(axis=1)\n",
    "cmean = m.mean(axis=0)\n",
    "omean = m.mean()\n",
    "\n",
    "print(rmean, cmean, omean)\n"
   ]
  },
  {
   "cell_type": "markdown",
   "metadata": {},
   "source": [
    "2\\. Find the outer product of the following two vecotrs\n",
    "\n",
    "```python\n",
    "u = np.array([1,3,5,7])\n",
    "v = np.array([2,4,6,8])\n",
    "```\n",
    "\n",
    "Do this in the following ways:\n",
    "\n",
    "   * Using the function outer in numpy\n",
    "   * Using a nested for loop or list comprehension\n",
    "   * Using numpy broadcasting operatoins\n"
   ]
  },
  {
   "cell_type": "code",
   "execution_count": 11,
   "metadata": {},
   "outputs": [
    {
     "name": "stdout",
     "output_type": "stream",
     "text": [
      "[[ 2  4  6  8]\n",
      " [ 6 12 18 24]\n",
      " [10 20 30 40]\n",
      " [14 28 42 56]]\n",
      "[[ 2.  4.  6.  8.]\n",
      " [ 6. 12. 18. 24.]\n",
      " [10. 20. 30. 40.]\n",
      " [14. 28. 42. 56.]]\n",
      "[[ 2  4  6  8]\n",
      " [ 6 12 18 24]\n",
      " [10 20 30 40]\n",
      " [14 28 42 56]]\n"
     ]
    }
   ],
   "source": [
    "import numpy as np\n",
    "\n",
    "u = np.array([1,3,5,7])\n",
    "v = np.array([2,4,6,8])\n",
    "\n",
    "nproduct = np.outer(u, v)\n",
    "print(nproduct)\n",
    "\n",
    "lproduct = np.zeros((len(u),len(v)))\n",
    "for pos, elem in enumerate(u):\n",
    "    lproduct[pos] = elem*v\n",
    "print(lproduct)\n",
    "\n",
    "utile = np.tile(u, (len(v), 1)).T\n",
    "bproduct = utile * v\n",
    "print(bproduct)"
   ]
  },
  {
   "cell_type": "code",
   "execution_count": 4,
   "metadata": {},
   "outputs": [
    {
     "name": "stdout",
     "output_type": "stream",
     "text": [
      "\n",
      "Numpy outer: \n",
      " [[ 2  4  6  8]\n",
      " [ 6 12 18 24]\n",
      " [10 20 30 40]\n",
      " [14 28 42 56]]\n",
      "\n",
      "Nested Loop outer: \n",
      " [[ 2.  4.  6.  8.]\n",
      " [ 6. 12. 18. 24.]\n",
      " [10. 20. 30. 40.]\n",
      " [14. 28. 42. 56.]]\n",
      "\n",
      "Broadcasting outer: \n",
      " [[ 2  4  6  8]\n",
      " [ 6 12 18 24]\n",
      " [10 20 30 40]\n",
      " [14 28 42 56]]\n"
     ]
    }
   ],
   "source": [
    "u = np.array([1,3,5,7])\n",
    "v = np.array([2,4,6,8])\n",
    "\n",
    "#Using function outer in numpy\n",
    "np_outer = np.outer(u, v)\n",
    "print('\\nNumpy outer: \\n', np_outer)\n",
    "\n",
    "#Using nested loop\n",
    "loop_outer = np.zeros((len(u)*len(v))).reshape((len(u), len(v)))\n",
    "\n",
    "for ci, i in enumerate(u):\n",
    "    for cj, j in enumerate(v):\n",
    "        loop_outer[ci, cj] = i*j\n",
    "\n",
    "print('\\nNested Loop outer: \\n', loop_outer)\n",
    "\n",
    "#Using numpy broadcasting\n",
    "broad_outer = np.zeros((len(u)*len(v))).reshape((len(u), len(v)))\n",
    "\n",
    "ub = np.tile(u, (len(u), 1)).T\n",
    "vb = np.tile(v, (len(v), 1))\n",
    "\n",
    "broad_outer = ub * vb\n",
    "print('\\nBroadcasting outer: \\n', broad_outer)"
   ]
  },
  {
   "cell_type": "markdown",
   "metadata": {},
   "source": [
    "3\\. Create a 10 by 6 matrix of random uniform numbers. Set all rows with any entry less than 0.1 to be zero\n",
    "\n",
    "Hint: Use the following numpy functions - np.random.random, np.any as well as Boolean indexing and the axis argument."
   ]
  },
  {
   "cell_type": "code",
   "execution_count": 5,
   "metadata": {},
   "outputs": [
    {
     "name": "stdout",
     "output_type": "stream",
     "text": [
      "[[0.63874008 0.59069974 0.11070118 0.38980413 0.34519373 0.78836686]\n",
      " [0.50647622 0.16610673 0.38305618 0.43566843 0.91790308 0.86517835]\n",
      " [0.48908828 0.42833345 0.10818302 0.50391901 0.48053466 0.33436031]\n",
      " [0.         0.         0.         0.         0.         0.        ]\n",
      " [0.         0.         0.         0.         0.         0.        ]\n",
      " [0.14708201 0.97475743 0.84175326 0.31124965 0.8303677  0.14694398]\n",
      " [0.91876411 0.90957229 0.65145845 0.95078077 0.43140015 0.9013076 ]\n",
      " [0.         0.         0.         0.         0.         0.        ]\n",
      " [0.92201629 0.25950769 0.32083444 0.97388579 0.2328371  0.87409068]\n",
      " [0.46902838 0.51588113 0.861948   0.53036891 0.2130535  0.47666583]]\n"
     ]
    }
   ],
   "source": [
    "arr = np.random.rand(10, 6)\n",
    "\n",
    "for rowc, row in enumerate(arr):\n",
    "    if any(x<0.1 for x in row):\n",
    "        arr[rowc] = [0]*len(row)\n",
    "\n",
    "print(arr)"
   ]
  },
  {
   "cell_type": "markdown",
   "metadata": {},
   "source": [
    "4\\. Use np.linspace to create an array of 100 numbers between 0 and 2π (includsive).\n",
    "\n",
    "  * Extract every 10th element using slice notation\n",
    "  * Reverse the array using slice notation\n",
    "  * Extract elements where the absolute difference between the sine and cosine functions evaluated at that element is less than 0.1\n",
    "  * Make a plot showing the sin and cos functions and indicate where they are close"
   ]
  },
  {
   "cell_type": "code",
   "execution_count": 9,
   "metadata": {},
   "outputs": [
    {
     "name": "stdout",
     "output_type": "stream",
     "text": [
      "\n",
      "Every tenth element: \n",
      " [0.         0.63466518 1.26933037 1.90399555 2.53866073 3.17332591\n",
      " 3.8079911  4.44265628 5.07732146 5.71198664]\n",
      "\n",
      "Extracted elems with close sin ans cos results: \n",
      " [0.76159822 0.82506474 3.87145761 3.93492413]\n"
     ]
    },
    {
     "data": {
      "image/png": "[encoded data removed]",
      "text/plain": [
       "<Figure size 432x288 with 1 Axes>"
      ]
     },
     "metadata": {
      "needs_background": "light"
     },
     "output_type": "display_data"
    }
   ],
   "source": [
    "import matplotlib.pyplot as plt\n",
    "arr = np.linspace(0, 2*np.pi, 100)\n",
    "#print(arr, end='\\n')\n",
    "\n",
    "#10th elem\n",
    "ten_elems = arr[::10]\n",
    "print('\\nEvery tenth element: \\n', ten_elems)\n",
    "\n",
    "#reverse array\n",
    "reversed_array = arr[::-1]\n",
    "#print(reversed_array)\n",
    "\n",
    "#extract if sin - cos less than 0.1\n",
    "sin_arr = np.sin(arr)\n",
    "cos_arr = np.cos(arr)\n",
    "diff = np.abs(sin_arr - cos_arr)\n",
    "\n",
    "mask = (diff<0.1)\n",
    "close_elems = arr[mask]\n",
    "print('\\nExtracted elems with close sin ans cos results: \\n', close_elems)\n",
    "\n",
    "#Plot\n",
    "plt.plot(arr, sin_arr)\n",
    "plt.plot(arr, cos_arr)\n",
    "plt.plot(close_elems, np.cos(close_elems), 'ro')\n",
    "plt.xlabel('array values')\n",
    "plt.ylabel('Sine and Cosine values')\n",
    "plt.show()\n"
   ]
  },
  {
   "cell_type": "markdown",
   "metadata": {},
   "source": [
    "5\\. Create a matrix that shows the 10 by 10 multiplication table.\n",
    "\n",
    " * Find the trace of the matrix\n",
    " * Extract the anto-diagonal (this should be ```array([10, 18, 24, 28, 30, 30, 28, 24, 18, 10])```)\n",
    " * Extract the diagnoal offset by 1 upwards (this should be ```array([ 2,  6, 12, 20, 30, 42, 56, 72, 90])```)"
   ]
  },
  {
   "cell_type": "code",
   "execution_count": 10,
   "metadata": {},
   "outputs": [
    {
     "name": "stdout",
     "output_type": "stream",
     "text": [
      "[[  1   2   3   4   5   6   7   8   9  10]\n",
      " [  2   4   6   8  10  12  14  16  18  20]\n",
      " [  3   6   9  12  15  18  21  24  27  30]\n",
      " [  4   8  12  16  20  24  28  32  36  40]\n",
      " [  5  10  15  20  25  30  35  40  45  50]\n",
      " [  6  12  18  24  30  36  42  48  54  60]\n",
      " [  7  14  21  28  35  42  49  56  63  70]\n",
      " [  8  16  24  32  40  48  56  64  72  80]\n",
      " [  9  18  27  36  45  54  63  72  81  90]\n",
      " [ 10  20  30  40  50  60  70  80  90 100]]\n",
      "\n",
      "Anto Diagonal: \n",
      " [10. 18. 24. 28. 30. 30. 28. 24. 18. 10.]\n",
      "\n",
      "Offset Diagonal: \n",
      " [ 2.  6. 12. 20. 30. 42. 56. 72. 90.]\n"
     ]
    }
   ],
   "source": [
    "nums = np.arange(10) +1\n",
    "broad_mult = np.tile(nums, (10, 1))\n",
    "broad_nums = np.tile(nums, (10, 1)).T\n",
    "\n",
    "table = nums.T * broad_nums\n",
    "print(table)\n",
    "\n",
    "#Anto diagonal\n",
    "anto = np.zeros(10)\n",
    "for i in range(10):\n",
    "    x = i\n",
    "    y = 9 - i\n",
    "    anto[i] = table[x, y]\n",
    "\n",
    "print('\\nAnto Diagonal: \\n', anto)\n",
    "\n",
    "#Diagonal offset\n",
    "offset = np.zeros(9)\n",
    "for i in range(9):\n",
    "    x = i\n",
    "    y = x+1\n",
    "    offset[i] = table[x, y]\n",
    "\n",
    "print('\\nOffset Diagonal: \\n', offset)"
   ]
  },
  {
   "cell_type": "markdown",
   "metadata": {},
   "source": [
    "6\\. Use broadcasting to create a grid of distances\n",
    "\n",
    "Route 66 crosses the following cities in the US: Chicago, Springfield, Saint-Louis, Tulsa, Oklahoma City, Amarillo, Santa Fe, Albuquerque, Flagstaff, Los Angeles\n",
    "The corresponding positions in miles are: 0, 198, 303, 736, 871, 1175, 1475, 1544, 1913, 2448\n",
    "\n",
    "  * Construct a 2D grid of distances among each city along Route 66\n",
    "  * Convert that in km (those savages...)"
   ]
  },
  {
   "cell_type": "code",
   "execution_count": 15,
   "metadata": {},
   "outputs": [
    {
     "name": "stdout",
     "output_type": "stream",
     "text": [
      "[[    0  -198  -303  -736  -871 -1175 -1475 -1544 -1913 -2448]\n",
      " [  198     0  -105  -538  -673  -977 -1277 -1346 -1715 -2250]\n",
      " [  303   105     0  -433  -568  -872 -1172 -1241 -1610 -2145]\n",
      " [  736   538   433     0  -135  -439  -739  -808 -1177 -1712]\n",
      " [  871   673   568   135     0  -304  -604  -673 -1042 -1577]\n",
      " [ 1175   977   872   439   304     0  -300  -369  -738 -1273]\n",
      " [ 1475  1277  1172   739   604   300     0   -69  -438  -973]\n",
      " [ 1544  1346  1241   808   673   369    69     0  -369  -904]\n",
      " [ 1913  1715  1610  1177  1042   738   438   369     0  -535]\n",
      " [ 2448  2250  2145  1712  1577  1273   973   904   535     0]]\n"
     ]
    }
   ],
   "source": [
    "dist = np.array([0, 198, 303, 736, 871, 1175, 1475, 1544, 1913, 2448])\n",
    "broad_dist = np.tile(dist, (len(dist), 1))\n",
    "broad_dist_T = broad_dist.T\n",
    "\n",
    "dist_grid_miles = broad_dist_T - broad_dist\n",
    "dist_grid_km = dist_grid_miles * 1.60934\n",
    "\n",
    "print(dist_grid_miles)\n",
    "#print(dist_grid_km)\n"
   ]
  },
  {
   "cell_type": "markdown",
   "metadata": {},
   "source": [
    "7\\. Prime numbers sieve: compute the prime numbers in the 0-N (N=99 to start with) range with a sieve (mask).\n",
    "  * Constract a shape (100,) boolean array, the mask\n",
    "  * Identify the multiples of each number starting from 2 and set accordingly the corresponding mask element\n",
    "  * Apply the mask to obtain an array of ordered prime numbers\n",
    "  * Check the performances (timeit); how does it scale with N?\n",
    "  * Implement the optimization suggested in the [sieve of Eratosthenes](https://en.wikipedia.org/wiki/Sieve_of_Eratosthenes)"
   ]
  },
  {
   "cell_type": "code",
   "execution_count": 43,
   "metadata": {},
   "outputs": [],
   "source": [
    "import numpy as np"
   ]
  },
  {
   "cell_type": "code",
   "execution_count": 66,
   "metadata": {},
   "outputs": [
    {
     "name": "stdout",
     "output_type": "stream",
     "text": [
      "[ 1  2  3  5  7 11 13 17 19 23 29 31 37 41 43 47 53 59 61 67 71 73 79 83\n",
      " 89 97]\n"
     ]
    }
   ],
   "source": [
    "N = 100\n",
    "nums = np.arange(1, N)\n",
    "bool_mask = np.ones(len(nums), dtype=bool)\n",
    "\n",
    "for pos, num in enumerate(nums):\n",
    "    if bool_mask[pos] == False: continue\n",
    "    if num == 1: continue\n",
    "    bool_mask[nums%num==0] = False\n",
    "    bool_mask[pos] = True\n",
    "\n",
    "print(nums[bool_mask])"
   ]
  },
  {
   "cell_type": "code",
   "execution_count": 43,
   "metadata": {},
   "outputs": [
    {
     "name": "stdout",
     "output_type": "stream",
     "text": [
      "[ 0  1  2  3  5  7 11 13 17 19 23 29 31 37 41 43 47 53 59 61 67 71 73 79\n",
      " 83 89 97]\n",
      "26.3 ms ± 1.22 ms per loop (mean ± std. dev. of 7 runs, 10 loops each)\n"
     ]
    },
    {
     "data": {
      "image/png": "[encoded data removed]",
      "text/plain": [
       "<Figure size 432x288 with 1 Axes>"
      ]
     },
     "metadata": {
      "needs_background": "light"
     },
     "output_type": "display_data"
    }
   ],
   "source": [
    "import time\n",
    "import matplotlib.pyplot as plt\n",
    "\n",
    "def find_primes(N):\n",
    "    nums = np.arange(N).reshape((1, N))\n",
    "    bool_mask = np.ones((1, N), dtype=bool)\n",
    "\n",
    "    for count, num in enumerate(nums[0]):\n",
    "        for possible_mult in nums[0][2:count]:\n",
    "            if possible_mult == num: continue\n",
    "            if num % possible_mult == 0:\n",
    "                bool_mask[0][count] = False\n",
    "                break\n",
    "\n",
    "    primes = nums[bool_mask]\n",
    "    return primes\n",
    "\n",
    "print(find_primes(100))\n",
    "%timeit find_primes(1000)\n",
    "\n",
    "times = []\n",
    "for N in range(1000):\n",
    "    initial = time.time()\n",
    "    find_primes(N)\n",
    "    final = time.time()\n",
    "    times.append(final-initial)\n",
    "\n",
    "xvals = [x for x in range(1000)]\n",
    "plt.plot(xvals, times)\n",
    "plt.xlabel('N value')\n",
    "plt.ylabel('Time taken')\n",
    "plt.show()"
   ]
  },
  {
   "cell_type": "code",
   "execution_count": 50,
   "metadata": {},
   "outputs": [
    {
     "name": "stdout",
     "output_type": "stream",
     "text": [
      "[2, 3, 5, 7, 11, 13, 17, 19, 23, 29, 31, 37, 41, 43, 47, 53, 59, 61, 67, 71, 73, 79, 83, 89, 97]\n"
     ]
    }
   ],
   "source": [
    "#Erastothenes method\n",
    "N = 100\n",
    "nums = [x for x in range(2, N)]\n",
    "\n",
    "p = 2\n",
    "while p != nums[-1]:\n",
    "    for num in nums:\n",
    "        if num == p: continue\n",
    "        if num % p == 0: nums.remove(num)\n",
    "    p = nums[nums.index(p) + 1]\n",
    "print(nums)"
   ]
  },
  {
   "cell_type": "markdown",
   "metadata": {},
   "source": [
    "**N.B. the following exercises are meant to be solved only if you are familiar with the numpy random library. If not you can skip them (postponed for one of the next exercise sessions)**\n"
   ]
  },
  {
   "cell_type": "markdown",
   "metadata": {},
   "source": [
    "8\\. Diffusion using random walk\n",
    "\n",
    "Consider a simple random walk process: at each step in time, a walker jumps right or left (+1 or -1) with equal probability. The goal is to find the typical distance from the origin of a random walker after a given amount of time. \n",
    "To do that, let's simulate many walkers and create a 2D array with each walker as a raw and the actual time evolution as columns\n",
    "\n",
    "  * Take 1000 walkers and let them walk for 200 steps\n",
    "  * Use randint to create a 2D array of size walkers x steps with values -1 or 1\n",
    "  * Build the actual walking distances for each walker (i.e. another 2D array \"summing on each raw\")\n",
    "  * Take the square of that 2D array (elementwise)\n",
    "  * Compute the mean of the squared distances at each step (i.e. the mean along the columns)\n",
    "  * Plot the average distances (sqrt(distance\\*\\*2)) as a function of time (step)\n",
    "  \n",
    "Did you get what you expected?"
   ]
  },
  {
   "cell_type": "code",
   "execution_count": 36,
   "metadata": {},
   "outputs": [],
   "source": [
    "import numpy.random as npr\n",
    "import numpy as np\n",
    "import matplotlib.pyplot as plt"
   ]
  },
  {
   "cell_type": "code",
   "execution_count": 14,
   "metadata": {},
   "outputs": [
    {
     "name": "stdout",
     "output_type": "stream",
     "text": [
      "(1000, 200)\n"
     ]
    }
   ],
   "source": [
    "data = npr.choice([1, -1], (1000, 200))\n",
    "print(np.shape(data))"
   ]
  },
  {
   "cell_type": "code",
   "execution_count": 25,
   "metadata": {},
   "outputs": [
    {
     "name": "stdout",
     "output_type": "stream",
     "text": [
      "[[ 1 -1  1 ...  1 -1 -1]\n",
      " [ 1  1  1 ... -1 -1  1]\n",
      " [ 1  1 -1 ...  1 -1 -1]\n",
      " ...\n",
      " [ 1 -1 -1 ...  1  1 -1]\n",
      " [ 1 -1 -1 ...  1 -1  1]\n",
      " [-1 -1  1 ...  1  1 -1]]\n",
      "(1000, 200)\n"
     ]
    }
   ],
   "source": [
    "arr = npr.randint(-1, 1, (1000, 200))\n",
    "arr[arr==0] = 1\n",
    "print(arr)\n",
    "print(np.shape(arr))"
   ]
  },
  {
   "cell_type": "code",
   "execution_count": 31,
   "metadata": {},
   "outputs": [
    {
     "name": "stdout",
     "output_type": "stream",
     "text": [
      "[[  1.   0.   1. ... -10. -11. -12.]\n",
      " [  1.   2.   3. ...   2.   1.   2.]\n",
      " [  1.   2.   1. ...  -2.  -3.  -4.]\n",
      " ...\n",
      " [  1.   0.  -1. ...   8.   9.   8.]\n",
      " [  1.   0.  -1. ... -26. -27. -26.]\n",
      " [ -1.  -2.  -1. ...  16.  17.  16.]]\n"
     ]
    }
   ],
   "source": [
    "dist = np.zeros((1000, 200))\n",
    "\n",
    "for col in range(200):\n",
    "    if col == 0: \n",
    "        dist[:, col] = arr[:, col]\n",
    "        continue\n",
    "    dist[:, col] = arr[:, col] + dist[:, col-1]\n",
    "\n",
    "print(dist)\n"
   ]
  },
  {
   "cell_type": "code",
   "execution_count": 32,
   "metadata": {},
   "outputs": [
    {
     "name": "stdout",
     "output_type": "stream",
     "text": [
      "[[  1.   0.   1. ... 100. 121. 144.]\n",
      " [  1.   4.   9. ...   4.   1.   4.]\n",
      " [  1.   4.   1. ...   4.   9.  16.]\n",
      " ...\n",
      " [  1.   0.   1. ...  64.  81.  64.]\n",
      " [  1.   0.   1. ... 676. 729. 676.]\n",
      " [  1.   4.   1. ... 256. 289. 256.]]\n"
     ]
    }
   ],
   "source": [
    "dist_sq = np.square(dist)\n",
    "print(dist_sq)"
   ]
  },
  {
   "cell_type": "code",
   "execution_count": 34,
   "metadata": {},
   "outputs": [
    {
     "name": "stdout",
     "output_type": "stream",
     "text": [
      "200\n"
     ]
    }
   ],
   "source": [
    "dist_mean = dist_sq.mean(axis=0)\n",
    "print(len(dist_mean))"
   ]
  },
  {
   "cell_type": "code",
   "execution_count": 40,
   "metadata": {},
   "outputs": [
    {
     "data": {
      "text/plain": [
       "200"
      ]
     },
     "execution_count": 40,
     "metadata": {},
     "output_type": "execute_result"
    }
   ],
   "source": [
    "len(np.sqrt(dist_mean))"
   ]
  },
  {
   "cell_type": "code",
   "execution_count": 42,
   "metadata": {},
   "outputs": [
    {
     "data": {
      "text/plain": [
       "[<matplotlib.lines.Line2D at 0x15cb5585970>]"
      ]
     },
     "execution_count": 42,
     "metadata": {},
     "output_type": "execute_result"
    },
    {
     "data": {
      "image/png": "[encoded data removed]",
      "text/plain": [
       "<Figure size 432x288 with 1 Axes>"
      ]
     },
     "metadata": {
      "needs_background": "light"
     },
     "output_type": "display_data"
    }
   ],
   "source": [
    "y = np.sqrt(dist_mean)\n",
    "x = np.linspace(0, 200, 200)\n",
    "\n",
    "plt.plot(x, y)"
   ]
  },
  {
   "cell_type": "markdown",
   "metadata": {},
   "source": [
    "9\\. Analyze a data file \n",
    "  * Download the population of hares, lynxes and carrots at the beginning of the last century.\n",
    "    ```python\n",
    "    ! wget https://www.dropbox.com/s/3vigxoqayo389uc/populations.txt\n",
    "    ```\n",
    "\n",
    "  * Check the content by looking within the file\n",
    "  * Load the data (use an appropriate numpy method) into a 2D array\n",
    "  * Create arrays out of the columns, the arrays being (in order): *year*, *hares*, *lynxes*, *carrots* \n",
    "  * Plot the 3 populations over the years\n",
    "  * Compute the main statistical properties of the dataset (mean, std, correlations, etc.)\n",
    "  * Which species has the highest population each year?\n",
    "\n",
    "Do you feel there is some evident correlation here? [Studies](https://www.enr.gov.nt.ca/en/services/lynx/lynx-snowshoe-hare-cycle) tend to believe so."
   ]
  },
  {
   "cell_type": "code",
   "execution_count": 15,
   "metadata": {},
   "outputs": [
    {
     "name": "stdout",
     "output_type": "stream",
     "text": [
      "[[ 1900.  1901.  1902.  1903.  1904.  1905.  1906.  1907.  1908.  1909.\n",
      "   1910.  1911.  1912.  1913.  1914.  1915.  1916.  1917.  1918.  1919.\n",
      "   1920.]\n",
      " [30000. 47200. 70200. 77400. 36300. 20600. 18100. 21400. 22000. 25400.\n",
      "  27100. 40300. 57000. 76600. 52300. 19500. 11200.  7600. 14600. 16200.\n",
      "  24700.]\n",
      " [ 4000.  6100.  9800. 35200. 59400. 41700. 19000. 13000.  8300.  9100.\n",
      "   7400.  8000. 12300. 19500. 45700. 51100. 29700. 15800.  9700. 10100.\n",
      "   8600.]\n",
      " [48300. 48200. 41500. 38200. 40600. 39800. 38600. 42300. 44500. 42100.\n",
      "  46000. 46800. 43800. 40900. 39400. 39000. 36700. 41800. 43300. 41300.\n",
      "  47300.]]\n"
     ]
    }
   ],
   "source": [
    "data = np.loadtxt('populations.txt')\n",
    "data = data.T\n",
    "print(data)"
   ]
  },
  {
   "cell_type": "code",
   "execution_count": 30,
   "metadata": {},
   "outputs": [
    {
     "data": {
      "text/plain": [
       "<matplotlib.legend.Legend at 0x20bd566ea00>"
      ]
     },
     "execution_count": 30,
     "metadata": {},
     "output_type": "execute_result"
    },
    {
     "data": {
      "image/png": "[encoded data removed]",
      "text/plain": [
       "<Figure size 864x432 with 1 Axes>"
      ]
     },
     "metadata": {
      "needs_background": "light"
     },
     "output_type": "display_data"
    }
   ],
   "source": [
    "years, hares, lynxes, carrots = data[0], data[1], data[2], data[3]\n",
    "\n",
    "import matplotlib.pyplot as plt\n",
    "plt.figure(figsize=(12,6))\n",
    "plt.plot(years, hares, label='Hares')\n",
    "plt.plot(years, lynxes, label='Lynxes')\n",
    "plt.plot(years, carrots, label='Carrots')\n",
    "plt.grid(True)\n",
    "plt.xlabel('Year')\n",
    "plt.ylabel('Population')\n",
    "plt.legend()"
   ]
  },
  {
   "cell_type": "code",
   "execution_count": 92,
   "metadata": {},
   "outputs": [
    {
     "name": "stdout",
     "output_type": "stream",
     "text": [
      "34080.95238095238 20166.666666666668 42400.0\n",
      "20897.906458089667 16254.591536908763 3322.5062255844787\n",
      "[[1.         0.07189206]\n",
      " [0.07189206 1.        ]] \n",
      "\n",
      " [[ 1.         -0.68057717]\n",
      " [-0.68057717  1.        ]] \n",
      "\n",
      " [[ 1.         -0.01660378]\n",
      " [-0.01660378  1.        ]]\n"
     ]
    }
   ],
   "source": [
    "mean_h, mean_l, mean_c = hares.mean(), lynxes.mean(), carrots.mean()\n",
    "std_h, std_l, std_c = hares.std(), lynxes.std(), carrots.std()\n",
    "\n",
    "print(mean_h, mean_l, mean_c)\n",
    "print(std_h, std_l, std_c)\n",
    "\n",
    "hl_corr = np.corrcoef(hares, lynxes)\n",
    "lc_corr = np.corrcoef(lynxes, carrots)\n",
    "hc_corr = np.corrcoef(hares, carrots)\n",
    "\n",
    "print(hl_corr, '\\n\\n', lc_corr, '\\n\\n', hc_corr)"
   ]
  },
  {
   "cell_type": "code",
   "execution_count": 50,
   "metadata": {},
   "outputs": [
    {
     "name": "stdout",
     "output_type": "stream",
     "text": [
      "{1900.0: ['Carrot', 48300.0], 1901.0: ['Carrot', 48200.0], 1902.0: ['Hare', 70200.0], 1903.0: ['Hare', 77400.0], 1904.0: ['Lynx', 59400.0], 1905.0: ['Lynx', 41700.0], 1906.0: ['Carrot', 38600.0], 1907.0: ['Carrot', 42300.0], 1908.0: ['Carrot', 44500.0], 1909.0: ['Carrot', 42100.0], 1910.0: ['Carrot', 46000.0], 1911.0: ['Carrot', 46800.0], 1912.0: ['Hare', 57000.0], 1913.0: ['Hare', 76600.0], 1914.0: ['Hare', 52300.0], 1915.0: ['Lynx', 51100.0], 1916.0: ['Carrot', 36700.0], 1917.0: ['Carrot', 41800.0], 1918.0: ['Carrot', 43300.0], 1919.0: ['Carrot', 41300.0], 1920.0: ['Carrot', 47300.0]}\n"
     ]
    }
   ],
   "source": [
    "max_pop = {}\n",
    "for pos, year in enumerate(years):\n",
    "    hare_pop, lynx_pop, carrot_pop = hares[pos], lynxes[pos], carrots[pos]\n",
    "    mpop = max(hare_pop, lynx_pop, carrot_pop)\n",
    "    if mpop == hare_pop: max_pop[year] = ['Hare', hare_pop]\n",
    "    elif mpop == lynx_pop: max_pop[year] = ['Lynx', lynx_pop]\n",
    "    else: max_pop[year] = ['Carrot', carrot_pop]\n",
    "\n",
    "print(max_pop)\n"
   ]
  },
  {
   "cell_type": "code",
   "execution_count": 84,
   "metadata": {},
   "outputs": [
    {
     "name": "stdout",
     "output_type": "stream",
     "text": [
      "[48300.0, 48200.0, 70200.0, 77400.0, 59400.0, 41700.0, 38600.0, 42300.0, 44500.0, 42100.0, 46000.0, 46800.0, 57000.0, 76600.0, 52300.0, 51100.0, 36700.0, 41800.0, 43300.0, 41300.0, 47300.0]\n"
     ]
    },
    {
     "data": {
      "text/plain": [
       "<matplotlib.legend.Legend at 0x20bd6ccd0a0>"
      ]
     },
     "execution_count": 84,
     "metadata": {},
     "output_type": "execute_result"
    },
    {
     "data": {
      "image/png": "[encoded data removed]",
      "text/plain": [
       "<Figure size 432x288 with 1 Axes>"
      ]
     },
     "metadata": {
      "needs_background": "light"
     },
     "output_type": "display_data"
    }
   ],
   "source": [
    "maxvals = [max(a, c, b) for (a, b, c) in zip(hares, lynxes, carrots)]\n",
    "print(maxvals)\n",
    "\n",
    "plt.scatter(years, maxvals, label='Max', c='Black')\n",
    "plt.plot(years, hares, label='Hares')\n",
    "plt.plot(years, lynxes, label='Lynxes')\n",
    "plt.plot(years, carrots, label='Carrots')\n",
    "plt.legend()"
   ]
  },
  {
   "cell_type": "code",
   "execution_count": null,
   "metadata": {},
   "outputs": [],
   "source": []
  }
 ],
 "metadata": {
  "kernelspec": {
   "display_name": "Python 3.9.12 ('base')",
   "language": "python",
   "name": "python3"
  },
  "language_info": {
   "codemirror_mode": {
    "name": "ipython",
    "version": 3
   },
   "file_extension": ".py",
   "mimetype": "text/x-python",
   "name": "python",
   "nbconvert_exporter": "python",
   "pygments_lexer": "ipython3",
   "version": "3.9.12 (main, Apr  4 2022, 05:22:27) [MSC v.1916 64 bit (AMD64)]"
  },
  "vscode": {
   "interpreter": {
    "hash": "2043299c89c8cd0b4d1a6f5cf4529bd58e6a4e0fe3181a25e0d328c821cdc5c5"
   }
  }
 },
 "nbformat": 4,
 "nbformat_minor": 2
}

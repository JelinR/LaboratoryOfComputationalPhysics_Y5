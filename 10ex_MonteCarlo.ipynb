{
 "cells": [
  {
   "cell_type": "code",
   "execution_count": 2,
   "metadata": {},
   "outputs": [],
   "source": [
    "import numpy as np\n",
    "import matplotlib.pyplot as plt"
   ]
  },
  {
   "cell_type": "markdown",
   "metadata": {},
   "source": [
    "1\\. **Radioactive decay chain**\n",
    "\n",
    "${\\rm Tl}^{208}$ decays to ${\\rm Pb}^{208}$ with a half-lieve of 3.052 minutes. Suppose to start with a sample of 1000 Thallium atoms and 0 of Lead atoms.\n",
    "\n",
    "* Take steps in time of 1 second and at each time-step decide whether each Tl atom has decayed or not, accordingly to the probability $p(t)=1-2^{-t/\\tau}$. Subtract the total number of Tl atoms that decayed at each step from the Tl sample and add them to the Lead one. Plot the evolution of the two sets as a function of time  \n",
    "* Repeat the exercise by means of the inverse transform method: draw 1000 random numbers from the non-uniform probability distribution $p(t)=2^{-t/\\tau}\\frac{\\ln 2}{\\tau}$ to represent the times of decay of the 1000 Tl atoms. Make a plot showing the number of atoms that have not decayed as a function of time"
   ]
  },
  {
   "cell_type": "code",
   "execution_count": 1,
   "metadata": {},
   "outputs": [],
   "source": [
    "def prob(t):\n",
    "    tau = 3.052*60\n",
    "    return (1 - (2**((-t)/tau)))"
   ]
  },
  {
   "cell_type": "code",
   "execution_count": 28,
   "metadata": {},
   "outputs": [
    {
     "data": {
      "text/plain": [
       "<matplotlib.legend.Legend at 0x2b4e55228e0>"
      ]
     },
     "execution_count": 28,
     "metadata": {},
     "output_type": "execute_result"
    },
    {
     "data": {
      "image/png": "[encoded data removed]",
      "text/plain": [
       "<Figure size 432x288 with 1 Axes>"
      ]
     },
     "metadata": {
      "needs_background": "light"
     },
     "output_type": "display_data"
    }
   ],
   "source": [
    "nT = 1000\n",
    "nP = 0\n",
    "tau = 3.052*60\n",
    "\n",
    "T_list = [1000]\n",
    "P_list = [0]\n",
    "\n",
    "time_list = np.arange(0, int(4*tau))\n",
    "\n",
    "for t in time_list[1:]:  #Since it is mentioned as each time step and each atom\n",
    "    for atom in range(nT):\n",
    "        rand_num = np.random.random()\n",
    "        if rand_num <= prob(1):\n",
    "            nT -= 1\n",
    "            nP += 1\n",
    "\n",
    "    T_list.append(nT)\n",
    "    P_list.append(nP)\n",
    "\n",
    "plt.plot(time_list, T_list, label='Thallium Atoms')\n",
    "plt.plot(time_list, P_list, label='Lead Atoms')\n",
    "plt.grid(True)\n",
    "plt.xlabel('Time')\n",
    "plt.ylabel('Population')\n",
    "plt.legend()"
   ]
  },
  {
   "cell_type": "code",
   "execution_count": 41,
   "metadata": {},
   "outputs": [
    {
     "name": "stdout",
     "output_type": "stream",
     "text": [
      "1756.9974757312928\n"
     ]
    },
    {
     "data": {
      "image/png": "[encoded data removed]",
      "text/plain": [
       "<Figure size 432x288 with 1 Axes>"
      ]
     },
     "metadata": {
      "needs_background": "light"
     },
     "output_type": "display_data"
    }
   ],
   "source": [
    "def expon_icdf(z, mu=60*3.052):\n",
    "    \"\"\"Inverse CDF of exponential distribution - i.e. quantile function.\"\"\"\n",
    "    return -np.log(1-z)/np.log(2)*mu\n",
    "\n",
    "u = np.random.random(1000)\n",
    "exp = expon_icdf(u)\n",
    "\n",
    "plt.hist(exp, bins=25)\n",
    "print(max(exp))"
   ]
  },
  {
   "cell_type": "markdown",
   "metadata": {},
   "source": [
    "2\\. **Rutherford Scattering**\n",
    "\n",
    "The scattering angle $\\theta$ of $\\alpha$ particles hitting a positively charged nucleus of a Gold atom ($Z=79$) follows the rule:\n",
    "\n",
    "$$\n",
    "\\tan{\\frac{1}{2} \\theta} = \\frac{Z e^2} {2\\pi \\epsilon_0 E b}\n",
    "$$\n",
    "\n",
    "where $E=7.7$ MeV and $b$ beam is the impact parameter. The beam is represented by a 2D gaussian distribution with $\\sigma=a_0/100$ for both coordinates ($a_0$ being the Bohr radius). Assume 1 million $\\alpha$ particles are shot on the gold atom.\n",
    "\n",
    "Computing the fraction of particles that \"bounce back\",i.e. those particle whose scattering angle is greater than $\\pi/2$ (which set a condition on the impact parameter $b$)"
   ]
  },
  {
   "cell_type": "code",
   "execution_count": 3,
   "metadata": {},
   "outputs": [],
   "source": [
    "E = (7.7 * 10**6) * (1.6 * 10**-19)\n",
    "a0 = 5.2917721067 * 10**(-11)\n",
    "sigma = a0/100\n",
    "Z = 79\n",
    "e = 1.6 * 10**-19\n",
    "epsilon = 8.854187817 * 10**-12\n",
    "\n",
    "def theta(b):\n",
    "    return 2* np.arctan( (Z * e**2) / (2 * np.pi * epsilon *  E * b))"
   ]
  },
  {
   "cell_type": "code",
   "execution_count": 4,
   "metadata": {},
   "outputs": [],
   "source": [
    "beam = np.random.normal(0, sigma, size=(1000000, 2))\n",
    "b = np.sqrt(beam[:, 0]**2 + beam[:, 1]**2)\n",
    "th = theta(b)"
   ]
  },
  {
   "cell_type": "code",
   "execution_count": 5,
   "metadata": {},
   "outputs": [
    {
     "name": "stdout",
     "output_type": "stream",
     "text": [
      "1000000 1608\n",
      "0.1608\n"
     ]
    }
   ],
   "source": [
    "cutoff = np.pi/2\n",
    "th_bounced = th[abs(th)>cutoff]\n",
    "\n",
    "print(len(th), len(th_bounced))\n",
    "\n",
    "percent_bounced = len(th_bounced)/len(th) * 100\n",
    "print(percent_bounced)"
   ]
  },
  {
   "cell_type": "markdown",
   "metadata": {},
   "source": [
    "3\\. **Monte Carlo integration: hit/miss vs mean value method**\n",
    "\n",
    "Consider the function \n",
    "\n",
    "$$f(x) =\\sin^2{\\frac{1}{x(2-x)}}$$\n",
    "\n",
    "* Compute the integral of $f(x)$ between 0 and 2 with the hit/miss method. Evaluate the error of your estimate\n",
    "* Repeat the integral with the mean value method. Evaluate the error and compare it with the previous one"
   ]
  },
  {
   "cell_type": "code",
   "execution_count": 6,
   "metadata": {},
   "outputs": [],
   "source": [
    "from scipy import integrate"
   ]
  },
  {
   "cell_type": "code",
   "execution_count": 7,
   "metadata": {},
   "outputs": [
    {
     "data": {
      "image/png": "[encoded data removed]",
      "text/plain": [
       "<Figure size 432x288 with 1 Axes>"
      ]
     },
     "metadata": {
      "needs_background": "light"
     },
     "output_type": "display_data"
    }
   ],
   "source": [
    "def f(x):\n",
    "    return np.sin(1 / (x*(2-x)))**2\n",
    "\n",
    "x = np.linspace(0, 2, 1000)[1:-1]\n",
    "plt.plot(x, f(x))\n",
    "plt.show()"
   ]
  },
  {
   "cell_type": "code",
   "execution_count": 8,
   "metadata": {},
   "outputs": [
    {
     "name": "stdout",
     "output_type": "stream",
     "text": [
      "1.45148\n",
      "1.4516877509810684\n",
      "0.0002077509810682887\n"
     ]
    },
    {
     "name": "stderr",
     "output_type": "stream",
     "text": [
      "C:\\Users\\Admin\\AppData\\Local\\Temp\\ipykernel_14380\\2634691087.py:14: IntegrationWarning: The maximum number of subdivisions (50) has been achieved.\n",
      "  If increasing the limit yields no improvement it is advised to analyze \n",
      "  the integrand in order to determine the difficulties.  If the position of a \n",
      "  local difficulty can be determined (singularity, discontinuity) one will \n",
      "  probably gain from splitting up the interval and calling the integrator \n",
      "  on the subranges.  Perhaps a special-purpose integrator should be used.\n",
      "  actual_integral, abs_error = integrate.quad(f, 0, 2)\n"
     ]
    }
   ],
   "source": [
    "#1: Hit or miss\n",
    "N = 100000\n",
    "count = 0\n",
    "A = 2*1\n",
    "\n",
    "for i in range(N):\n",
    "    x = np.random.random()\n",
    "    y = np.random.random()\n",
    "    if y<f(x): count += 1\n",
    "\n",
    "integral = (A*count)/N\n",
    "print(integral)\n",
    "\n",
    "actual_integral, abs_error = integrate.quad(f, 0, 2)\n",
    "print(actual_integral)\n",
    "\n",
    "error_hitmiss = abs(actual_integral - integral)\n",
    "print(error_hitmiss)"
   ]
  },
  {
   "cell_type": "code",
   "execution_count": 9,
   "metadata": {},
   "outputs": [
    {
     "name": "stdout",
     "output_type": "stream",
     "text": [
      "100000\n",
      "1.451485628417686\n",
      "0.00020212256338236756\n"
     ]
    }
   ],
   "source": [
    "#2: Mean Value\n",
    "A = 2\n",
    "x = np.linspace(0, 2, N+2)[1:-1]\n",
    "print(len(x))\n",
    "\n",
    "integral = (A/N)*sum(f(x))\n",
    "print(integral)\n",
    "\n",
    "error_mean = abs(integral - actual_integral)\n",
    "print(error_mean)\n",
    "\n",
    "#Since error from mean method is smaller, the mean method is superior"
   ]
  },
  {
   "cell_type": "markdown",
   "metadata": {},
   "source": [
    "4\\. **Monte Carlo integration in high dimension**\n",
    "\n",
    "* Start of by computing the area of a circle of unit radius, by integrating the function \n",
    "\n",
    "$$\n",
    "f(x,y)=\n",
    "\\left\\{\n",
    "\\begin{array}{ll}\n",
    "      1 & x^2+y^2\\le 1 \\\\\n",
    "      0 & {\\rm elsewhere}\n",
    "\\end{array} \n",
    "\\right.\n",
    "$$\n",
    "\n",
    "* Generalize the result for a 10D sphere\n",
    "\n"
   ]
  },
  {
   "cell_type": "code",
   "execution_count": 10,
   "metadata": {},
   "outputs": [
    {
     "name": "stdout",
     "output_type": "stream",
     "text": [
      "3.1268\n",
      "3.141592653589793\n"
     ]
    }
   ],
   "source": [
    "A = 4\n",
    "N = 10000\n",
    "\n",
    "x = np.random.uniform(-1, 1, size=N)\n",
    "y = np.random.uniform(-1, 1, size=N)\n",
    "dist = np.sqrt(x**2 + y**2)\n",
    "\n",
    "k = len(dist[dist<=1])\n",
    "\n",
    "integral = (A*k)/N\n",
    "print(integral)\n",
    "print(np.pi)"
   ]
  },
  {
   "cell_type": "code",
   "execution_count": 11,
   "metadata": {},
   "outputs": [
    {
     "name": "stdout",
     "output_type": "stream",
     "text": [
      "2.5639936\n"
     ]
    }
   ],
   "source": [
    "def area(n):\n",
    "    V = 2**n\n",
    "    N = 1000000*n \n",
    "\n",
    "    x = np.zeros((n, N))\n",
    "    for pos, row in enumerate(x):\n",
    "        x[pos] = np.random.uniform(-1, 1, size=N)\n",
    "\n",
    "    dist = np.sqrt(np.sum(x**2, axis=0))\n",
    "\n",
    "    k = len(dist[dist<=1])\n",
    "\n",
    "    integral = (V*k)/N\n",
    "    return integral\n",
    "\n",
    "print(area(10))"
   ]
  },
  {
   "cell_type": "markdown",
   "metadata": {},
   "source": [
    "5\\. **Monte Carlo integration with importance sampling** \n",
    "\n",
    "Calculate the value of the integral:\n",
    "\n",
    "$$\n",
    "I=\\int_0^1 \\frac{x^{-1/2}}{e^x+1} dx\n",
    "$$\n",
    "\n",
    "using the importance sampling method with $w(x)=1/\\sqrt{x}$. You should get a result about 0.84"
   ]
  },
  {
   "cell_type": "code",
   "execution_count": 12,
   "metadata": {},
   "outputs": [],
   "source": [
    "from scipy import integrate"
   ]
  },
  {
   "cell_type": "code",
   "execution_count": 13,
   "metadata": {},
   "outputs": [
    {
     "name": "stdout",
     "output_type": "stream",
     "text": [
      "0.8393663432888502\n"
     ]
    }
   ],
   "source": [
    "a, b = 0, 1\n",
    "N = 10**5\n",
    "\n",
    "def f(x):\n",
    "    term1 = x**(-0.5)\n",
    "    term2 = np.exp(x) + 1\n",
    "    return term1/term2\n",
    "\n",
    "def w(x):\n",
    "    return 1/np.sqrt(x)\n",
    "\n",
    "x = np.random.uniform(0, 1, N)\n",
    "\n",
    "w_integral, _ = integrate.quad(w, 0, 1)\n",
    "\n",
    "integral = (1/N) * np.sum(f(x**2)/w(x**2)) * w_integral\n",
    "print(integral)"
   ]
  },
  {
   "cell_type": "code",
   "execution_count": null,
   "metadata": {},
   "outputs": [],
   "source": []
  }
 ],
 "metadata": {
  "kernelspec": {
   "display_name": "base",
   "language": "python",
   "name": "python3"
  },
  "language_info": {
   "codemirror_mode": {
    "name": "ipython",
    "version": 3
   },
   "file_extension": ".py",
   "mimetype": "text/x-python",
   "name": "python",
   "nbconvert_exporter": "python",
   "pygments_lexer": "ipython3",
   "version": "3.9.12"
  },
  "vscode": {
   "interpreter": {
    "hash": "2043299c89c8cd0b4d1a6f5cf4529bd58e6a4e0fe3181a25e0d328c821cdc5c5"
   }
  }
 },
 "nbformat": 4,
 "nbformat_minor": 2
}

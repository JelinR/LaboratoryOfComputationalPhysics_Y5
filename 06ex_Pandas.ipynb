{
 "cells": [
  {
   "cell_type": "markdown",
   "metadata": {},
   "source": [
    "## Pandas analysis\n",
    "\n",
    "This exercise consists in analyzing a dataset containg timing information from a series of Time-to-Digital-Converters (TDC) implemented in a couple of FPGAs. Each measurement (i.e. each row of the input file) consists of a flag that specifies the type of message ('HEAD', which in this case is always 1), two addresses of the TDC providing the signal ('FPGA' and 'TDC_CHANNEL'), and the timing information ('ORBIT_CNT', 'BX_COUNTER', and 'TDC_MEAS'). Each TDC count corresponds to 25/30 ns, whereas a unit of BX_COUNTER corresponds to 25 ns, and the ORBIT_CNT is increased every 'x' BX_COUNTER. This allows to store the time in a similar way to hours, minutes and seconds."
   ]
  },
  {
   "cell_type": "code",
   "execution_count": 3,
   "metadata": {},
   "outputs": [
    {
     "name": "stderr",
     "output_type": "stream",
     "text": [
      "'wget' is not recognized as an internal or external command,\n",
      "operable program or batch file.\n"
     ]
    }
   ],
   "source": [
    "# If you didn't download it yet, please get the relevant file now!\n",
    "!wget https://www.dropbox.com/s/xvjzaxzz3ysphme/data_000637.txt -P ~/data/"
   ]
  },
  {
   "cell_type": "markdown",
   "metadata": {},
   "source": [
    "1\\. Create a Pandas DataFrame reading N rows of the 'data_000637.txt' dataset. Choose N to be smaller than or equal to the maximum number of rows and larger that 10k.\n",
    "\n",
    "2\\. Find out the number of BX in a ORBIT (the value 'x').\n",
    "\n",
    "3\\. Find out how much the data taking lasted. You can either make an estimate based on the fraction of the measurements (rows) you read, or perform this check precisely by reading out the whole dataset.\n",
    "\n",
    "4\\. Create a new column with the absolute time in ns (as a combination of the other three columns with timing information).\n",
    "\n",
    "5\\. Replace the values (all 1) of the HEAD column randomly with 0 or 1.\n",
    "\n",
    "6\\. Create a new DataFrame that contains only the rows with HEAD=1.\n",
    "\n",
    "7\\. Make two occupancy plots (one for each FPGA), i.e. plot the number of counts per TDC channel\n",
    "\n",
    "8\\. Use the groupby method to find out the noisy channels, i.e. the TDC channels with most counts (say the top 3)\n",
    "\n",
    "9\\. Count the number of unique orbits. Count the number of unique orbits with at least one measurement from TDC_CHANNEL=139"
   ]
  },
  {
   "cell_type": "code",
   "execution_count": 4,
   "metadata": {},
   "outputs": [],
   "source": [
    "import pandas as pd\n",
    "import numpy as np\n",
    "import random\n",
    "import matplotlib.pyplot as plt"
   ]
  },
  {
   "cell_type": "code",
   "execution_count": 2,
   "metadata": {},
   "outputs": [
    {
     "name": "stdout",
     "output_type": "stream",
     "text": [
      "(20000, 6)\n",
      "3564\n",
      "   HEAD  FPGA  TDC_CHANNEL   ORBIT_CNT  BX_COUNTER  TDC_MEAS    TIME TAKEN\n",
      "0     1     0          123  3869200167        2374        26  3.447457e+14\n",
      "1     1     0          124  3869200167        2374        27  3.447457e+14\n",
      "2     1     0           63  3869200167        2553        28  3.447457e+14\n",
      "3     1     0           64  3869200167        2558        19  3.447457e+14\n",
      "4     1     0           64  3869200167        2760        25  3.447457e+14\n",
      "Total Time taken (in seconds):  0.0177345958125\n",
      "   HEAD  FPGA  TDC_CHANNEL   ORBIT_CNT  BX_COUNTER  TDC_MEAS    TIME TAKEN\n",
      "0     0     0          123  3869200167        2374        26  3.447457e+14\n",
      "1     1     0          124  3869200167        2374        27  3.447457e+14\n",
      "2     0     0           63  3869200167        2553        28  3.447457e+14\n",
      "3     0     0           64  3869200167        2558        19  3.447457e+14\n",
      "4     0     0           64  3869200167        2760        25  3.447457e+14\n",
      "   HEAD  FPGA  TDC_CHANNEL   ORBIT_CNT  BX_COUNTER  TDC_MEAS    TIME TAKEN\n",
      "0     1     0          124  3869200167        2374        27  3.447457e+14\n",
      "1     1     0           63  3869200167        2762         4  3.447457e+14\n",
      "2     1     0           61  3869200167        2772        14  3.447457e+14\n",
      "3     1     0           64  3869200167        2786        19  3.447457e+14\n",
      "4     1     1            6  3869200167        2792        18  3.447457e+14\n",
      "(10102, 7)\n"
     ]
    }
   ],
   "source": [
    "data = pd.read_csv('data_000637.txt')\n",
    "\n",
    "#1\n",
    "N = 20000\n",
    "data = data[:N]\n",
    "print(data.shape)\n",
    "\n",
    "#2\n",
    "x = max(data['BX_COUNTER'])+1\n",
    "print(x)\n",
    "\n",
    "#3, 4\n",
    "def time(orbit, bx, tdc):\n",
    "    orbit_time = x*25*orbit\n",
    "    bx_time = 25*bx\n",
    "    tdc_time = (25/30)*tdc\n",
    "    return orbit_time+bx_time+tdc_time\n",
    "\n",
    "data['TIME TAKEN'] = time(data['ORBIT_CNT'], data['BX_COUNTER'], data['TDC_MEAS'])\n",
    "print(data.head())\n",
    "\n",
    "total_time = ( max(data['TIME TAKEN']) - min(data['TIME TAKEN']) ) * (10**-9)\n",
    "print('Total Time taken (in seconds): ', total_time)\n",
    "\n",
    "#5\n",
    "replace_list = pd.Series(np.random.choice([0, 1], size=N))\n",
    "data['HEAD'] = replace_list\n",
    "print(data.head())\n",
    "\n",
    "#6\n",
    "data = data[data['HEAD'] == 1]\n",
    "data = data.reset_index(drop=True)\n",
    "print(data.head())\n",
    "print(data.shape)\n"
   ]
  },
  {
   "attachments": {},
   "cell_type": "markdown",
   "metadata": {},
   "source": [
    "A unit of tdc is (25/30)ns, while a unit of bx is 25 ns.  Thus, we see that bx = 30 tdc.  We aim to find a similar equation between bx and orbit.  We notice that the maximum value in the tdc series is 29, which makes sense since the actual maximum count is 30.  A similar logic can be applied to find x, and we say that max(bx)+1 can be a possible x, since nothing surpasses it.  Thus, orbit = x * bx is solved."
   ]
  },
  {
   "cell_type": "code",
   "execution_count": 5,
   "metadata": {},
   "outputs": [
    {
     "data": {
      "image/png": "[encoded data removed]",
      "text/plain": [
       "<Figure size 864x432 with 2 Axes>"
      ]
     },
     "metadata": {
      "needs_background": "light"
     },
     "output_type": "display_data"
    }
   ],
   "source": [
    "#7\n",
    "fpga0 = data[data['FPGA']==0]['TDC_CHANNEL']\n",
    "fpga1 = data[data['FPGA']==1]['TDC_CHANNEL']\n",
    "\n",
    "fig, ax = plt.subplots(1, 2, figsize=(12, 6))\n",
    "ax[0].hist(fpga0, 139)\n",
    "ax[0].grid(True)\n",
    "\n",
    "\n",
    "ax[1].hist(fpga1, 139)\n",
    "ax[1].grid(True)"
   ]
  },
  {
   "cell_type": "code",
   "execution_count": 6,
   "metadata": {},
   "outputs": [
    {
     "name": "stdout",
     "output_type": "stream",
     "text": [
      "             HEAD\n",
      "TDC_CHANNEL      \n",
      "139           834\n",
      "64            512\n",
      "63            477\n",
      "60            394\n",
      "61            375\n",
      "...           ...\n",
      "107             5\n",
      "97              5\n",
      "125             4\n",
      "67              4\n",
      "52              3\n",
      "\n",
      "[129 rows x 1 columns]\n",
      "Int64Index([139, 64, 63], dtype='int64', name='TDC_CHANNEL')\n"
     ]
    }
   ],
   "source": [
    "#8\n",
    "noisy_df = data[['HEAD', 'TDC_CHANNEL']].groupby('TDC_CHANNEL').count().sort_values(by='HEAD', ascending=False)\n",
    "print(noisy_df)\n",
    "\n",
    "noise_channels = noisy_df.index[:3]\n",
    "print(noise_channels)"
   ]
  },
  {
   "cell_type": "code",
   "execution_count": 7,
   "metadata": {},
   "outputs": [
    {
     "name": "stdout",
     "output_type": "stream",
     "text": [
      "200\n",
      "195\n"
     ]
    }
   ],
   "source": [
    "#9\n",
    "unique_orbits = data['ORBIT_CNT'].nunique()\n",
    "print(unique_orbits)\n",
    "\n",
    "orbits_139 = data[data['TDC_CHANNEL'] == 139]['ORBIT_CNT'].nunique()\n",
    "print(orbits_139)"
   ]
  },
  {
   "cell_type": "code",
   "execution_count": null,
   "metadata": {},
   "outputs": [],
   "source": []
  }
 ],
 "metadata": {
  "kernelspec": {
   "display_name": "Python 3.9.12 ('base')",
   "language": "python",
   "name": "python3"
  },
  "language_info": {
   "codemirror_mode": {
    "name": "ipython",
    "version": 3
   },
   "file_extension": ".py",
   "mimetype": "text/x-python",
   "name": "python",
   "nbconvert_exporter": "python",
   "pygments_lexer": "ipython3",
   "version": "3.9.12"
  },
  "vscode": {
   "interpreter": {
    "hash": "2043299c89c8cd0b4d1a6f5cf4529bd58e6a4e0fe3181a25e0d328c821cdc5c5"
   }
  }
 },
 "nbformat": 4,
 "nbformat_minor": 2
}

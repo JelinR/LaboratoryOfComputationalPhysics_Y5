{
 "cells": [
  {
   "cell_type": "markdown",
   "metadata": {},
   "source": [
    "## Pandas analysis\n",
    "\n",
    "This exercise consists in analyzing a dataset containg timing information from a series of Time-to-Digital-Converters (TDC) implemented in a couple of FPGAs. Each measurement (i.e. each row of the input file) consists of a flag that specifies the type of message ('HEAD', which in this case is always 1), two addresses of the TDC providing the signal ('FPGA' and 'TDC_CHANNEL'), and the timing information ('ORBIT_CNT', 'BX_COUNTER', and 'TDC_MEAS'). Each TDC count corresponds to 25/30 ns, whereas a unit of BX_COUNTER corresponds to 25 ns, and the ORBIT_CNT is increased every 'x' BX_COUNTER. This allows to store the time in a similar way to hours, minutes and seconds."
   ]
  },
  {
   "cell_type": "code",
   "execution_count": 3,
   "metadata": {},
   "outputs": [
    {
     "name": "stderr",
     "output_type": "stream",
     "text": [
      "'wget' is not recognized as an internal or external command,\n",
      "operable program or batch file.\n"
     ]
    }
   ],
   "source": [
    "# If you didn't download it yet, please get the relevant file now!\n",
    "!wget https://www.dropbox.com/s/xvjzaxzz3ysphme/data_000637.txt -P ~/data/"
   ]
  },
  {
   "cell_type": "markdown",
   "metadata": {},
   "source": [
    "1\\. Create a Pandas DataFrame reading N rows of the 'data_000637.txt' dataset. Choose N to be smaller than or equal to the maximum number of rows and larger that 10k.\n",
    "\n",
    "2\\. Find out the number of BX in a ORBIT (the value 'x').\n",
    "\n",
    "3\\. Find out how much the data taking lasted. You can either make an estimate based on the fraction of the measurements (rows) you read, or perform this check precisely by reading out the whole dataset.\n",
    "\n",
    "4\\. Create a new column with the absolute time in ns (as a combination of the other three columns with timing information).\n",
    "\n",
    "5\\. Replace the values (all 1) of the HEAD column randomly with 0 or 1.\n",
    "\n",
    "6\\. Create a new DataFrame that contains only the rows with HEAD=1.\n",
    "\n",
    "7\\. Make two occupancy plots (one for each FPGA), i.e. plot the number of counts per TDC channel\n",
    "\n",
    "8\\. Use the groupby method to find out the noisy channels, i.e. the TDC channels with most counts (say the top 3)\n",
    "\n",
    "9\\. Count the number of unique orbits. Count the number of unique orbits with at least one measurement from TDC_CHANNEL=139"
   ]
  },
  {
   "cell_type": "code",
   "execution_count": 17,
   "metadata": {},
   "outputs": [],
   "source": [
    "import pandas as pd\n",
    "import numpy as np\n",
    "import random"
   ]
  },
  {
   "cell_type": "code",
   "execution_count": 5,
   "metadata": {},
   "outputs": [
    {
     "name": "stdout",
     "output_type": "stream",
     "text": [
      "       HEAD  FPGA  TDC_CHANNEL   ORBIT_CNT  BX_COUNTER  TDC_MEAS\n",
      "0         1     0          123  3869200167        2374        26\n",
      "1         1     0          124  3869200167        2374        27\n",
      "2         1     0           63  3869200167        2553        28\n",
      "3         1     0           64  3869200167        2558        19\n",
      "4         1     0           64  3869200167        2760        25\n",
      "...     ...   ...          ...         ...         ...       ...\n",
      "11995     1     0          139  3869200286        3251         0\n",
      "11996     1     0           62  3869200286        3246         4\n",
      "11997     1     0           58  3869200286        3246        11\n",
      "11998     1     0           61  3869200286        3251        17\n",
      "11999     1     0           59  3869200286        3248        16\n",
      "\n",
      "[12000 rows x 6 columns]\n"
     ]
    }
   ],
   "source": [
    "#1\n",
    "\n",
    "file_name=\"C:/Users/Admin/Documents/GitHub/LaboratoryOfComputationalPhysics_Y5/data_000637.txt\"\n",
    "data=pd.read_csv(file_name)\n",
    "\n",
    "N = 12000\n",
    "fdata = data[:N]\n",
    "print(fdata)\n"
   ]
  },
  {
   "cell_type": "code",
   "execution_count": 6,
   "metadata": {},
   "outputs": [
    {
     "name": "stdout",
     "output_type": "stream",
     "text": [
      "        ORBIT_CNT  BX_COUNTER\n",
      "0      3869200167        2374\n",
      "2      3869200167        2553\n",
      "3      3869200167        2558\n",
      "4      3869200167        2760\n",
      "5      3869200167        2762\n",
      "...           ...         ...\n",
      "11989  3869200286        3017\n",
      "11993  3869200286        3245\n",
      "11994  3869200286        3246\n",
      "11995  3869200286        3251\n",
      "11999  3869200286        3248\n",
      "\n",
      "[9072 rows x 2 columns]\n",
      "            BX_COUNTER\n",
      "ORBIT_CNT             \n",
      "3869200167          34\n",
      "3869200168          68\n",
      "3869200169          95\n",
      "3869200170          80\n",
      "3869200171          83\n",
      "...                ...\n",
      "3869200282          44\n",
      "3869200283          56\n",
      "3869200284         103\n",
      "3869200285          69\n",
      "3869200286          82\n",
      "\n",
      "[120 rows x 1 columns]\n"
     ]
    }
   ],
   "source": [
    "#2\n",
    "filtered = fdata.loc[:, ['ORBIT_CNT', 'BX_COUNTER']].drop_duplicates()\n",
    "print(filtered)\n",
    "grouped = filtered.groupby('ORBIT_CNT').count()\n",
    "print(grouped.sort_values('ORBIT_CNT'))"
   ]
  },
  {
   "cell_type": "code",
   "execution_count": 7,
   "metadata": {},
   "outputs": [
    {
     "name": "stdout",
     "output_type": "stream",
     "text": [
      "3869200167\n"
     ]
    }
   ],
   "source": [
    "print(filtered.iloc[0, 0])"
   ]
  },
  {
   "cell_type": "code",
   "execution_count": 8,
   "metadata": {},
   "outputs": [
    {
     "name": "stdout",
     "output_type": "stream",
     "text": [
      "3869200287\n",
      "3869282862\n"
     ]
    }
   ],
   "source": [
    "#3\n",
    "tdc_count = fdata.TDC_MEAS.nunique() * 30\n",
    "bx_count = fdata.BX_COUNTER.nunique() * 25\n",
    "orbit_count = grouped.BX_COUNTER.count() + filtered.iloc[0, 0]\n",
    "\n",
    "print(orbit_count)\n",
    "\n",
    "time_taken = tdc_count + bx_count + orbit_count\n",
    "\n",
    "print(time_taken)\n"
   ]
  },
  {
   "cell_type": "code",
   "execution_count": 11,
   "metadata": {},
   "outputs": [
    {
     "name": "stdout",
     "output_type": "stream",
     "text": [
      "       HEAD  FPGA  TDC_CHANNEL   ORBIT_CNT  BX_COUNTER  TDC_MEAS    ABS_TIME\n",
      "0         1     0          123  3869200167        2374        26  3869260297\n",
      "1         1     0          124  3869200167        2374        27  3869260327\n",
      "2         1     0           63  3869200167        2553        28  3869264832\n",
      "3         1     0           64  3869200167        2558        19  3869264687\n",
      "4         1     0           64  3869200167        2760        25  3869269917\n",
      "...     ...   ...          ...         ...         ...       ...         ...\n",
      "11995     1     0          139  3869200286        3251         0  3869281561\n",
      "11996     1     0           62  3869200286        3246         4  3869281556\n",
      "11997     1     0           58  3869200286        3246        11  3869281766\n",
      "11998     1     0           61  3869200286        3251        17  3869282071\n",
      "11999     1     0           59  3869200286        3248        16  3869281966\n",
      "\n",
      "[12000 rows x 7 columns]\n"
     ]
    },
    {
     "name": "stderr",
     "output_type": "stream",
     "text": [
      "C:\\Users\\Admin\\AppData\\Local\\Temp\\ipykernel_38820\\1404275599.py:3: SettingWithCopyWarning: \n",
      "A value is trying to be set on a copy of a slice from a DataFrame.\n",
      "Try using .loc[row_indexer,col_indexer] = value instead\n",
      "\n",
      "See the caveats in the documentation: https://pandas.pydata.org/pandas-docs/stable/user_guide/indexing.html#returning-a-view-versus-a-copy\n",
      "  fdata['ABS_TIME'] = pd.Series(abstime, index=fdata.index)\n"
     ]
    }
   ],
   "source": [
    "#4\n",
    "abstime = fdata['ORBIT_CNT'] + fdata['BX_COUNTER']*25 + fdata['TDC_MEAS']*30\n",
    "fdata['ABS_TIME'] = pd.Series(abstime, index=fdata.index)\n",
    "print(fdata)\n"
   ]
  },
  {
   "cell_type": "code",
   "execution_count": 13,
   "metadata": {},
   "outputs": [
    {
     "name": "stdout",
     "output_type": "stream",
     "text": [
      "[]\n"
     ]
    }
   ],
   "source": [
    "print(np.random.random([0, 1]))"
   ]
  },
  {
   "cell_type": "code",
   "execution_count": 20,
   "metadata": {},
   "outputs": [
    {
     "name": "stdout",
     "output_type": "stream",
     "text": [
      "       HEAD  FPGA  TDC_CHANNEL   ORBIT_CNT  BX_COUNTER  TDC_MEAS    ABS_TIME\n",
      "0         0     0          123  3869200167        2374        26  3869260297\n",
      "1         1     0          124  3869200167        2374        27  3869260327\n",
      "2         1     0           63  3869200167        2553        28  3869264832\n",
      "3         0     0           64  3869200167        2558        19  3869264687\n",
      "4         1     0           64  3869200167        2760        25  3869269917\n",
      "...     ...   ...          ...         ...         ...       ...         ...\n",
      "11995     0     0          139  3869200286        3251         0  3869281561\n",
      "11996     1     0           62  3869200286        3246         4  3869281556\n",
      "11997     1     0           58  3869200286        3246        11  3869281766\n",
      "11998     0     0           61  3869200286        3251        17  3869282071\n",
      "11999     1     0           59  3869200286        3248        16  3869281966\n",
      "\n",
      "[12000 rows x 7 columns]\n"
     ]
    },
    {
     "name": "stderr",
     "output_type": "stream",
     "text": [
      "C:\\Users\\Admin\\AppData\\Local\\Temp\\ipykernel_38820\\700905447.py:2: SettingWithCopyWarning: \n",
      "A value is trying to be set on a copy of a slice from a DataFrame.\n",
      "Try using .loc[row_indexer,col_indexer] = value instead\n",
      "\n",
      "See the caveats in the documentation: https://pandas.pydata.org/pandas-docs/stable/user_guide/indexing.html#returning-a-view-versus-a-copy\n",
      "  fdata['HEAD'] = pd.Series(random.choices([0, 1], k=len(fdata)))\n"
     ]
    }
   ],
   "source": [
    "#5\n",
    "fdata['HEAD'] = pd.Series(random.choices([0, 1], k=len(fdata)))\n",
    "print(fdata)"
   ]
  },
  {
   "cell_type": "code",
   "execution_count": 21,
   "metadata": {},
   "outputs": [
    {
     "name": "stdout",
     "output_type": "stream",
     "text": [
      "       HEAD  FPGA  TDC_CHANNEL   ORBIT_CNT  BX_COUNTER  TDC_MEAS    ABS_TIME\n",
      "1         1     0          124  3869200167        2374        27  3869260327\n",
      "2         1     0           63  3869200167        2553        28  3869264832\n",
      "4         1     0           64  3869200167        2760        25  3869269917\n",
      "7         1     0          139  3869200167        2776         0  3869269567\n",
      "8         1     0           62  3869200167        2774        21  3869270147\n",
      "...     ...   ...          ...         ...         ...       ...         ...\n",
      "11993     1     0           61  3869200286        3245        20  3869282011\n",
      "11994     1     0           57  3869200286        3246         4  3869281556\n",
      "11996     1     0           62  3869200286        3246         4  3869281556\n",
      "11997     1     0           58  3869200286        3246        11  3869281766\n",
      "11999     1     0           59  3869200286        3248        16  3869281966\n",
      "\n",
      "[5986 rows x 7 columns]\n"
     ]
    }
   ],
   "source": [
    "#6\n",
    "ones_fdata = fdata[fdata['HEAD']==1]\n",
    "print(ones_fdata)"
   ]
  },
  {
   "cell_type": "code",
   "execution_count": 36,
   "metadata": {},
   "outputs": [
    {
     "name": "stdout",
     "output_type": "stream",
     "text": [
      "       FPGA  TDC_CHANNEL\n",
      "0         0          123\n",
      "1         0          124\n",
      "2         0           63\n",
      "3         0           64\n",
      "4         0           64\n",
      "...     ...          ...\n",
      "11995     0          139\n",
      "11996     0           62\n",
      "11997     0           58\n",
      "11998     0           61\n",
      "11999     0           59\n",
      "\n",
      "[12000 rows x 2 columns]\n",
      "       FPGA  TDC_CHANNEL\n",
      "0         0          123\n",
      "1         0          124\n",
      "2         0           63\n",
      "3         0           64\n",
      "4         0           64\n",
      "...     ...          ...\n",
      "11995     0          139\n",
      "11996     0           62\n",
      "11997     0           58\n",
      "11998     0           61\n",
      "11999     0           59\n",
      "\n",
      "[8381 rows x 2 columns]\n"
     ]
    },
    {
     "data": {
      "text/plain": [
       "<AxesSubplot:xlabel='TDC_CHANNEL'>"
      ]
     },
     "execution_count": 36,
     "metadata": {},
     "output_type": "execute_result"
    },
    {
     "data": {
      "image/png": "[encoded data removed]",
      "text/plain": [
       "<Figure size 432x288 with 1 Axes>"
      ]
     },
     "metadata": {
      "needs_background": "light"
     },
     "output_type": "display_data"
    },
    {
     "data": {
      "image/png": "[encoded data removed]",
      "text/plain": [
       "<Figure size 432x288 with 1 Axes>"
      ]
     },
     "metadata": {
      "needs_background": "light"
     },
     "output_type": "display_data"
    }
   ],
   "source": [
    "#7\n",
    "filt = fdata[['FPGA', 'TDC_CHANNEL']]\n",
    "print(filt)\n",
    "\n",
    "filt_zero = filt[filt['FPGA']==0]\n",
    "filt_one= filt[filt['FPGA']==1]\n",
    "\n",
    "print(filt_zero)\n",
    "\n",
    "group_zero = filt_zero.groupby('TDC_CHANNEL').count()\n",
    "group_one = filt_one.groupby('TDC_CHANNEL').count()\n",
    "\n",
    "group_zero.plot()\n",
    "group_one.plot()\n",
    "\n",
    "#group = filt.groupby(['TDC_CHANNEL', 'FPGA']).size()\n",
    "#print(group)"
   ]
  },
  {
   "cell_type": "code",
   "execution_count": null,
   "metadata": {},
   "outputs": [],
   "source": []
  }
 ],
 "metadata": {
  "kernelspec": {
   "display_name": "Python 3.9.12 ('base')",
   "language": "python",
   "name": "python3"
  },
  "language_info": {
   "codemirror_mode": {
    "name": "ipython",
    "version": 3
   },
   "file_extension": ".py",
   "mimetype": "text/x-python",
   "name": "python",
   "nbconvert_exporter": "python",
   "pygments_lexer": "ipython3",
   "version": "3.9.12"
  },
  "vscode": {
   "interpreter": {
    "hash": "2043299c89c8cd0b4d1a6f5cf4529bd58e6a4e0fe3181a25e0d328c821cdc5c5"
   }
  }
 },
 "nbformat": 4,
 "nbformat_minor": 2
}

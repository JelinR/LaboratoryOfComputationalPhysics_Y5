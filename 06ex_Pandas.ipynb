{
 "cells": [
  {
   "cell_type": "markdown",
   "metadata": {},
   "source": [
    "## Pandas analysis\n",
    "\n",
    "This exercise consists in analyzing a dataset containg timing information from a series of Time-to-Digital-Converters (TDC) implemented in a couple of FPGAs. Each measurement (i.e. each row of the input file) consists of a flag that specifies the type of message ('HEAD', which in this case is always 1), two addresses of the TDC providing the signal ('FPGA' and 'TDC_CHANNEL'), and the timing information ('ORBIT_CNT', 'BX_COUNTER', and 'TDC_MEAS'). Each TDC count corresponds to 25/30 ns, whereas a unit of BX_COUNTER corresponds to 25 ns, and the ORBIT_CNT is increased every 'x' BX_COUNTER. This allows to store the time in a similar way to hours, minutes and seconds."
   ]
  },
  {
   "cell_type": "code",
   "execution_count": null,
   "metadata": {},
   "outputs": [],
   "source": [
    "# If you didn't download it yet, please get the relevant file now!\n",
    "!wget https://www.dropbox.com/s/xvjzaxzz3ysphme/data_000637.txt -P ~/data/"
   ]
  },
  {
   "cell_type": "markdown",
   "metadata": {},
   "source": [
    "1\\. Create a Pandas DataFrame reading N rows of the 'data_000637.txt' dataset. Choose N to be smaller than or equal to the maximum number of rows and larger that 10k.\n",
    "\n",
    "2\\. Find out the number of BX in a ORBIT (the value 'x').\n",
    "\n",
    "3\\. Find out how much the data taking lasted. You can either make an estimate based on the fraction of the measurements (rows) you read, or perform this check precisely by reading out the whole dataset.\n",
    "\n",
    "4\\. Create a new column with the absolute time in ns (as a combination of the other three columns with timing information).\n",
    "\n",
    "5\\. Replace the values (all 1) of the HEAD column randomly with 0 or 1.\n",
    "\n",
    "6\\. Create a new DataFrame that contains only the rows with HEAD=1.\n",
    "\n",
    "7\\. Make two occupancy plots (one for each FPGA), i.e. plot the number of counts per TDC channel\n",
    "\n",
    "8\\. Use the groupby method to find out the noisy channels, i.e. the TDC channels with most counts (say the top 3)\n",
    "\n",
    "9\\. Count the number of unique orbits. Count the number of unique orbits with at least one measurement from TDC_CHANNEL=139"
   ]
  },
  {
   "cell_type": "code",
   "execution_count": 2,
   "metadata": {},
   "outputs": [],
   "source": [
    "import pandas as pd\n",
    "import numpy as np"
   ]
  },
  {
   "cell_type": "code",
   "execution_count": 8,
   "metadata": {},
   "outputs": [
    {
     "name": "stdout",
     "output_type": "stream",
     "text": [
      "0        2374\n",
      "1        2374\n",
      "2        2553\n",
      "3        2558\n",
      "4        2760\n",
      "         ... \n",
      "11995    3251\n",
      "11996    3246\n",
      "11997    3246\n",
      "11998    3251\n",
      "11999    3248\n",
      "Name: BX_COUNTER, Length: 12000, dtype: int64\n"
     ]
    }
   ],
   "source": [
    "#1\n",
    "\n",
    "file_name=\"C:/Users/Admin/Documents/GitHub/LaboratoryOfComputationalPhysics_Y5/data_000637.txt\"\n",
    "data=pd.read_csv(file_name)\n",
    "\n",
    "N = 12000\n",
    "fdata = data[:N]\n",
    "\n"
   ]
  },
  {
   "cell_type": "code",
   "execution_count": 18,
   "metadata": {},
   "outputs": [
    {
     "name": "stdout",
     "output_type": "stream",
     "text": [
      "            HEAD  FPGA  TDC_CHANNEL  BX_COUNTER  TDC_MEAS\n",
      "ORBIT_CNT                                                \n",
      "3869200167    43    43           43          43        43\n",
      "3869200168    85    85           85          85        85\n",
      "3869200169   127   127          127         127       127\n",
      "3869200170    98    98           98          98        98\n",
      "3869200171   109   109          109         109       109\n",
      "...          ...   ...          ...         ...       ...\n",
      "3869200282    57    57           57          57        57\n",
      "3869200283    72    72           72          72        72\n",
      "3869200284   149   149          149         149       149\n",
      "3869200285    80    80           80          80        80\n",
      "3869200286   123   123          123         123       123\n",
      "\n",
      "[120 rows x 5 columns]\n",
      "ORBIT_CNT\n",
      "3869200167     43\n",
      "3869200168     85\n",
      "3869200169    127\n",
      "3869200170     98\n",
      "3869200171    109\n",
      "             ... \n",
      "3869200282     57\n",
      "3869200283     72\n",
      "3869200284    149\n",
      "3869200285     80\n",
      "3869200286    123\n",
      "Name: BX_COUNTER, Length: 120, dtype: int64\n"
     ]
    }
   ],
   "source": [
    "#2\n",
    "grouped = fdata.groupby('ORBIT_CNT').count()\n",
    "print(grouped)\n",
    "print(grouped.loc[:, 'BX_COUNTER'])"
   ]
  },
  {
   "cell_type": "code",
   "execution_count": null,
   "metadata": {},
   "outputs": [],
   "source": []
  }
 ],
 "metadata": {
  "kernelspec": {
   "display_name": "Python 3.9.12 ('base')",
   "language": "python",
   "name": "python3"
  },
  "language_info": {
   "codemirror_mode": {
    "name": "ipython",
    "version": 3
   },
   "file_extension": ".py",
   "mimetype": "text/x-python",
   "name": "python",
   "nbconvert_exporter": "python",
   "pygments_lexer": "ipython3",
   "version": "3.9.12"
  },
  "vscode": {
   "interpreter": {
    "hash": "2043299c89c8cd0b4d1a6f5cf4529bd58e6a4e0fe3181a25e0d328c821cdc5c5"
   }
  }
 },
 "nbformat": 4,
 "nbformat_minor": 2
}

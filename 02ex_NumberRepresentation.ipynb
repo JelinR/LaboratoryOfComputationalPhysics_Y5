{
 "cells": [
  {
   "cell_type": "markdown",
   "metadata": {},
   "source": [
    "1\\. Write a function that converts number representation, bin<->dec<->hex. (Clearly using the corresponding python built-in functions is not fair..)"
   ]
  },
  {
   "cell_type": "code",
   "execution_count": 1,
   "metadata": {},
   "outputs": [
    {
     "name": "stdout",
     "output_type": "stream",
     "text": [
      "2596\n"
     ]
    }
   ],
   "source": [
    "def bin_to_dec(a):\n",
    "    a = str(a)\n",
    "    sum = 0\n",
    "    for count, i in enumerate(a):\n",
    "        c_count = len(a) - count - 1\n",
    "        sum += int(i) * 2**c_count\n",
    "    return sum\n",
    "\n",
    "def bin_to_hex(a):\n",
    "    a = str(a)\n",
    "    hex_val = ''\n",
    "    while(len(a)%4 != 0): a = '0' + a\n",
    "\n",
    "    for count, i in enumerate(a):\n",
    "        c_count = count+1\n",
    "        if c_count % 4 == 0:\n",
    "            dec_val = bin_to_dec(a[c_count-4:c_count])\n",
    "            if dec_val<10: hex_val += str(dec_val)\n",
    "            elif dec_val == 10: hex_val += 'A'\n",
    "            elif dec_val == 11: hex_val += 'B'\n",
    "            elif dec_val == 12: hex_val += 'C'\n",
    "            elif dec_val == 13: hex_val += 'D'\n",
    "            elif dec_val == 14: hex_val += 'E'\n",
    "            else: hex_val += 'F'\n",
    "\n",
    "    return hex_val\n",
    "            \n",
    "def dec_to_bin(a):\n",
    "    if a==0: return '0'\n",
    "    bin_val = ''\n",
    "    while a>0:\n",
    "        rem = a%2\n",
    "        bin_val = str(rem) + bin_val\n",
    "        a = a//2\n",
    "    return bin_val\n",
    "\n",
    "def dec_to_hex(a):\n",
    "    hex_val = ''\n",
    "    while a>0:\n",
    "        rem = a%16\n",
    "        a = a//16\n",
    "        print(f'rem: {rem}, up a: {a}')\n",
    "        if rem<10: hex_val = str(rem) + hex_val\n",
    "        elif rem == 10: hex_val = 'A' + hex_val\n",
    "        elif rem == 11: hex_val = 'B' + hex_val\n",
    "        elif rem == 12: hex_val = 'C' + hex_val\n",
    "        elif rem == 13: hex_val = 'D' + hex_val\n",
    "        elif rem == 14: hex_val = 'E' + hex_val\n",
    "        else: hex_val = 'F' + hex_val\n",
    "        \n",
    "    return hex_val\n",
    "\n",
    "def hex_to_bin(a):\n",
    "    a = str(a)\n",
    "    bin_val = ''\n",
    "    for count, i in enumerate(a):\n",
    "        if i.isnumeric():\n",
    "            bin_unedited = dec_to_bin(int(i))\n",
    "            if (len(a) - count) != len(a): \n",
    "                while len(bin_unedited)%4 != 0: bin_unedited = '0' + bin_unedited\n",
    "            bin_val += bin_unedited\n",
    "        else:\n",
    "            if i == 'A': bin_val += '1010'\n",
    "            elif i == 'B': bin_val += '1011'\n",
    "            elif i == 'C': bin_val += '1100'\n",
    "            elif i == 'D': bin_val += '1101'\n",
    "            elif i == 'E': bin_val += '1110'\n",
    "            elif i == 'F': bin_val += '1111'\n",
    "    \n",
    "    return bin_val\n",
    "        \n",
    "def hex_to_dec(a):\n",
    "    a = str(a)\n",
    "    sum = 0\n",
    "    for count, i in enumerate(a):\n",
    "        c_count = len(a) - count - 1\n",
    "        if i.isnumeric(): sum += int(i) * 16**c_count\n",
    "        else:\n",
    "            if i == 'A': sum += 10 * 16**c_count\n",
    "            elif i == 'B': sum += 11 * 16**c_count\n",
    "            elif i == 'C': sum += 12 * 16**c_count\n",
    "            elif i == 'D': sum += 13 * 16**c_count\n",
    "            elif i == 'E': sum += 14 * 16**c_count\n",
    "            elif i == 'F': sum += 15 * 16**c_count\n",
    "    return sum\n",
    "\n",
    "\n",
    "\n",
    "def convert(a, initial, final):\n",
    "    if initial == 'bin':\n",
    "        if final == 'dec': return bin_to_dec(a)\n",
    "        return bin_to_hex(a)\n",
    "\n",
    "    if initial == 'dec':\n",
    "        if final == 'bin':\n",
    "            return dec_to_bin(a)\n",
    "        return dec_to_hex(a)\n",
    "\n",
    "    if final == 'bin': return hex_to_bin(a)\n",
    "    return hex_to_dec(a)\n",
    "\n",
    "print(convert('A24', 'hex', 'dec'))"
   ]
  },
  {
   "cell_type": "markdown",
   "metadata": {},
   "source": [
    "2\\. Write a function that converts a 32 bit word into a single precision floating point (i.e. interprets the various bits as sign, mantissa and exponent)"
   ]
  },
  {
   "cell_type": "code",
   "execution_count": 5,
   "metadata": {},
   "outputs": [
    {
     "name": "stdout",
     "output_type": "stream",
     "text": [
      "54\n",
      "[104, 101, 108, 108, 111]\n"
     ]
    }
   ],
   "source": [
    "def convert(x):\n",
    "    s = x[0]\n",
    "    e = x[1:10]\n",
    "    f = x[10:]\n",
    "    return s, f, e"
   ]
  },
  {
   "cell_type": "markdown",
   "metadata": {},
   "source": [
    "3\\. Write a program to determine the underflow and overflow limits (within a factor of 2) for python on your computer. \n",
    "\n",
    "**Tips**: define two variables inizialized to 1 and halve/double them enough time to exceed the under/over-flow limits  "
   ]
  },
  {
   "cell_type": "code",
   "execution_count": null,
   "metadata": {},
   "outputs": [],
   "source": [
    "under_var = over_var = 1\n"
   ]
  },
  {
   "cell_type": "markdown",
   "metadata": {},
   "source": [
    "4\\. Write a program to determine the machine precision\n",
    "\n",
    "**Tips**: define a new variable by adding a smaller and smaller value (proceeding similarly to prob. 2) to an original variable and check the point where the two are the same "
   ]
  },
  {
   "cell_type": "markdown",
   "metadata": {},
   "source": [
    "5\\. Write a function that takes in input three parameters $a$, $b$ and $c$ and prints out the two solutions to the quadratic equation $ax^2+bx+c=0$ using the standard formula:\n",
    "$$\n",
    "x=\\frac{-b\\pm\\sqrt{b^2-4ac}}{2a}\n",
    "$$\n",
    "\n",
    "(a) use the program to compute the solution for $a=0.001$, $b=1000$ and $c=0.001$\n",
    "\n",
    "(b) re-express the standard solution formula by multiplying top and bottom by $-b\\mp\\sqrt{b^2-4ac}$ and again find the solution for $a=0.001$, $b=1000$ and $c=0.001$. How does it compare with what previously obtained? Why?\n",
    "\n",
    "(c) write a function that compute the roots of a quadratic equation accurately in all cases"
   ]
  },
  {
   "cell_type": "code",
   "execution_count": 14,
   "metadata": {},
   "outputs": [
    {
     "name": "stdout",
     "output_type": "stream",
     "text": [
      "a) Solution - direct: (-9.999894245993346e-07, -999999.999999)\n",
      "b) Solution - factor: (-9.999894245993346e-07, -999999.9999990001)\n",
      "c) Solution - accurate: (-1.0, -1000000.0)\n"
     ]
    }
   ],
   "source": [
    "def solution(a, b, c, mode):\n",
    "    root = (b**2 - (4*a*c))**(1/2)\n",
    "    numerator_1, numerator_2 = -b + root, -b-root\n",
    "    denominator = 2*a\n",
    "\n",
    "    if mode == 'direct': return (numerator_1/denominator), (numerator_2/denominator)\n",
    "    elif mode == 'factorised':\n",
    "        factor_1, factor_2 = numerator_2, numerator_1\n",
    "        numerator_1 *= factor_1\n",
    "        denominator_1 = denominator * factor_1\n",
    "        numerator_2 *= factor_2\n",
    "        denominator_2 = denominator*factor_2\n",
    "\n",
    "        return (numerator_1/denominator_1), (numerator_2/denominator_2)\n",
    "    else:\n",
    "        return (numerator_1//denominator), (numerator_2//denominator)\n",
    "\n",
    "\n",
    "print(f'a) Solution - direct: {solution(0.001, 1000, 0.001, \"direct\")}')\n",
    "print(f'b) Solution - factor: {solution(0.001, 1000, 0.001, \"factorised\")}')\n",
    "print(f'c) Solution - accurate: {solution(0.001, 1000, 0.001, \"accurate\")}')\n",
    "\n"
   ]
  },
  {
   "cell_type": "markdown",
   "metadata": {},
   "source": [
    "6\\. Write a program that implements the function $f(x)=x(x−1)$\n",
    "\n",
    "(a) Calculate the derivative of the function at the point $x = 1$ using the derivative definition:\n",
    "\n",
    "$$\n",
    "\\frac{{\\rm d}f}{{\\rm d}x} = \\lim_{\\delta\\to0} \\frac{f(x+\\delta)-f(x)}{\\delta}\n",
    "$$\n",
    "\n",
    "with $\\delta = 10^{−2}$. Calculate the true value of the same derivative analytically and compare with the answer your program gives. The two will not agree perfectly. Why not?\n",
    "\n",
    "(b) Repeat the calculation for $\\delta = 10^{−4}, 10^{−6}, 10^{−8}, 10^{−10}, 10^{−12}$ and $10^{−14}$. How does the accuracy scales with $\\delta$?"
   ]
  },
  {
   "cell_type": "code",
   "execution_count": 28,
   "metadata": {},
   "outputs": [
    {
     "name": "stdout",
     "output_type": "stream",
     "text": [
      "a) f'(x) with delta = 0.01: 1.010000000000001\n",
      "b) f'(x) with delta = 0.0001: 1.0000999999998899\n",
      "b) f'(x) with delta = 1e-06: 1.0000009999177333\n",
      "b) f'(x) with delta = 1e-08: 1.0000000039225287\n",
      "b) f'(x) with delta = 1e-10: 1.000000082840371\n",
      "b) f'(x) with delta = 1e-12: 1.0000889005833413\n",
      "b) f'(x) with delta = 1e-14: 0.9992007221626509\n",
      "b) f'(x) with delta = 1e-15: 1.1102230246251577\n"
     ]
    }
   ],
   "source": [
    "def f(x):\n",
    "    return x*(x-1)\n",
    "\n",
    "#a)\n",
    "def der(x, delta):\n",
    "    return ( f(x+delta) - f(x) ) / delta\n",
    "\n",
    "print(f'a) f\\'(x) with delta = {10**(-2)}: {der(1, 10**(-2))}')\n",
    "\n",
    "#b\n",
    "print(f'b) f\\'(x) with delta = {10**(-4)}: {der(1, 10**(-4))}')\n",
    "print(f'b) f\\'(x) with delta = {10**(-6)}: {der(1, 10**(-6))}')\n",
    "print(f'b) f\\'(x) with delta = {10**(-8)}: {der(1, 10**(-8))}')\n",
    "print(f'b) f\\'(x) with delta = {10**(-10)}: {der(1, 10**(-10))}')\n",
    "print(f'b) f\\'(x) with delta = {10**(-12)}: {der(1, 10**(-12))}')\n",
    "print(f'b) f\\'(x) with delta = {10**(-14)}: {der(1, 10**(-14))}')\n",
    "print(f'b) f\\'(x) with delta = {10**(-15)}: {der(1, 10**(-15))}')"
   ]
  },
  {
   "cell_type": "markdown",
   "metadata": {},
   "source": [
    "7\\. Consider the integral of the semicircle of radius 1:\n",
    "$$\n",
    "I=\\int_{-1}^{1} \\sqrt(1-x^2) {\\rm d}x\n",
    "$$\n",
    "which it's known to be $I=\\frac{\\pi}{2}=1.57079632679...$.\n",
    "Alternatively we can use the Riemann definition of the integral:\n",
    "$$\n",
    "I=\\lim_{N\\to\\infty} \\sum_{k=1}^{N} h y_k \n",
    "$$\n",
    "\n",
    "with $h=2/N$ the width of each of the $N$ slices the domain is divided into and where\n",
    "$y_k$ is the value of the function at the $k-$th slice.\n",
    "\n",
    "(a) Write a programe to compute the integral with $N=100$. How does the result compares to the true value?\n",
    "\n",
    "(b) How much can $N$ be increased if the computation needs to be run in less than a second? What is the gain in running it for 1 minute? \n"
   ]
  },
  {
   "cell_type": "code",
   "execution_count": 5,
   "metadata": {},
   "outputs": [
    {
     "name": "stdout",
     "output_type": "stream",
     "text": [
      "a) With N=100, Integral:  (1.5691342555492493+9.424321830774486e-10j)\n",
      "b) Within 1 second, N can be around:  2600100\n"
     ]
    }
   ],
   "source": [
    "import time\n",
    "start = time.time()\n",
    "\n",
    "def y(x):\n",
    "    return (1 - x**2)**(1/2)\n",
    "\n",
    "def integral(N):\n",
    "    h = 2/N\n",
    "    sum = 0\n",
    "    val = -1\n",
    "    for i in range(N+1):\n",
    "        sum += h * y(val)\n",
    "        val += h\n",
    "\n",
    "    return sum\n",
    "\n",
    "def timed(N_start):\n",
    "    N = N_start\n",
    "    diff = 0\n",
    "    while diff<1.0:\n",
    "        init_time = time.time()\n",
    "        integral(N)\n",
    "        diff = time.time() - init_time\n",
    "        N += 100000\n",
    "    return N\n",
    "\n",
    "print('a) With N=100, Integral: ', integral(100))\n",
    "print('b) Within 1 second, N can be around: ', timed(100))\n"
   ]
  }
 ],
 "metadata": {
  "kernelspec": {
   "display_name": "Python 3.9.12 ('base')",
   "language": "python",
   "name": "python3"
  },
  "language_info": {
   "codemirror_mode": {
    "name": "ipython",
    "version": 3
   },
   "file_extension": ".py",
   "mimetype": "text/x-python",
   "name": "python",
   "nbconvert_exporter": "python",
   "pygments_lexer": "ipython3",
   "version": "3.9.12"
  },
  "vscode": {
   "interpreter": {
    "hash": "2043299c89c8cd0b4d1a6f5cf4529bd58e6a4e0fe3181a25e0d328c821cdc5c5"
   }
  }
 },
 "nbformat": 4,
 "nbformat_minor": 2
}

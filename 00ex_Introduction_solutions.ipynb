{
 "cells": [
  {
   "cell_type": "markdown",
   "id": "5685bdce",
   "metadata": {},
   "source": [
    "\n",
    "\n",
    "    The MickeyMouse problem\n",
    "\n",
    "a) Write a program that prints the numbers from 1 to 100. But for multiples of 3 print Mickey instead of the corresponding number and for the multiples of 5 print Mouse. For numbers which are multiples of both three and five print MickeyMouse\n",
    "\n",
    "b) Put the result in a tuple and substitute Mickey with Donald and Mouse with Duck\n"
   ]
  },
  {
   "cell_type": "code",
   "execution_count": 11,
   "id": "ed01e9a9",
   "metadata": {},
   "outputs": [
    {
     "name": "stdout",
     "output_type": "stream",
     "text": [
      "1\n",
      "2\n",
      "Mickey\n",
      "4\n",
      "Mouse\n",
      "Mickey\n",
      "7\n",
      "8\n",
      "Mickey\n",
      "Mouse\n",
      "11\n",
      "Mickey\n",
      "13\n",
      "14\n",
      "MickeyMouse\n",
      "16\n",
      "17\n",
      "Mickey\n",
      "19\n",
      "Mouse\n",
      "Mickey\n",
      "22\n",
      "23\n",
      "Mickey\n",
      "Mouse\n",
      "26\n",
      "Mickey\n",
      "28\n",
      "29\n",
      "MickeyMouse\n",
      "31\n",
      "32\n",
      "Mickey\n",
      "34\n",
      "Mouse\n",
      "Mickey\n",
      "37\n",
      "38\n",
      "Mickey\n",
      "Mouse\n",
      "41\n",
      "Mickey\n",
      "43\n",
      "44\n",
      "MickeyMouse\n",
      "46\n",
      "47\n",
      "Mickey\n",
      "49\n",
      "Mouse\n",
      "Mickey\n",
      "52\n",
      "53\n",
      "Mickey\n",
      "Mouse\n",
      "56\n",
      "Mickey\n",
      "58\n",
      "59\n",
      "MickeyMouse\n",
      "61\n",
      "62\n",
      "Mickey\n",
      "64\n",
      "Mouse\n",
      "Mickey\n",
      "67\n",
      "68\n",
      "Mickey\n",
      "Mouse\n",
      "71\n",
      "Mickey\n",
      "73\n",
      "74\n",
      "MickeyMouse\n",
      "76\n",
      "77\n",
      "Mickey\n",
      "79\n",
      "Mouse\n",
      "Mickey\n",
      "82\n",
      "83\n",
      "Mickey\n",
      "Mouse\n",
      "86\n",
      "Mickey\n",
      "88\n",
      "89\n",
      "MickeyMouse\n",
      "91\n",
      "92\n",
      "Mickey\n",
      "94\n",
      "Mouse\n",
      "Mickey\n",
      "97\n",
      "98\n",
      "Mickey\n",
      "Mouse\n"
     ]
    }
   ],
   "source": [
    "for x in range(1, 101):\n",
    "    s = ''\n",
    "    if x%3  == 0: s += 'Mickey'\n",
    "    if x%5 == 0: s += \"Mouse\"\n",
    "    if s: print(s)\n",
    "    else: print(x)"
   ]
  },
  {
   "cell_type": "code",
   "execution_count": 13,
   "id": "7dc304e0",
   "metadata": {},
   "outputs": [
    {
     "name": "stdout",
     "output_type": "stream",
     "text": [
      "(1, 2, 'Mickey', 4, 'Mouse', 'Mickey', 7, 8, 'Mickey', 'Mouse', 11, 'Mickey', 13, 14, 'MickeyMouse', 16, 17, 'Mickey', 19, 'Mouse', 'Mickey', 22, 23, 'Mickey', 'Mouse', 26, 'Mickey', 28, 29, 'MickeyMouse', 31, 32, 'Mickey', 34, 'Mouse', 'Mickey', 37, 38, 'Mickey', 'Mouse', 41, 'Mickey', 43, 44, 'MickeyMouse', 46, 47, 'Mickey', 49, 'Mouse', 'Mickey', 52, 53, 'Mickey', 'Mouse', 56, 'Mickey', 58, 59, 'MickeyMouse', 61, 62, 'Mickey', 64, 'Mouse', 'Mickey', 67, 68, 'Mickey', 'Mouse', 71, 'Mickey', 73, 74, 'MickeyMouse', 76, 77, 'Mickey', 79, 'Mouse', 'Mickey', 82, 83, 'Mickey', 'Mouse', 86, 'Mickey', 88, 89, 'MickeyMouse', 91, 92, 'Mickey', 94, 'Mouse', 'Mickey', 97, 98, 'Mickey', 'Mouse')\n"
     ]
    }
   ],
   "source": [
    "t = []\n",
    "for x in range(1, 101):\n",
    "    s = ''\n",
    "    if x%3  == 0: s += 'Mickey'\n",
    "    if x%5 == 0: s += \"Mouse\"\n",
    "    if s: t.append(s)\n",
    "    else: t.append(x)\n",
    "        \n",
    "t = tuple(t)\n",
    "print(t)"
   ]
  },
  {
   "cell_type": "code",
   "execution_count": 28,
   "id": "d0186e28",
   "metadata": {},
   "outputs": [
    {
     "name": "stdout",
     "output_type": "stream",
     "text": [
      "(1, 2, 'Donald', 4, 'Duck', 'Donald', 7, 8, 'Donald', 'Duck', 11, 'Donald', 13, 14, 'DonaldDuck', 16, 17, 'Donald', 19, 'Duck', 'Donald', 22, 23, 'Donald', 'Duck', 26, 'Donald', 28, 29, 'DonaldDuck', 31, 32, 'Donald', 34, 'Duck', 'Donald', 37, 38, 'Donald', 'Duck', 41, 'Donald', 43, 44, 'DonaldDuck', 46, 47, 'Donald', 49, 'Duck', 'Donald', 52, 53, 'Donald', 'Duck', 56, 'Donald', 58, 59, 'DonaldDuck', 61, 62, 'Donald', 64, 'Duck', 'Donald', 67, 68, 'Donald', 'Duck', 71, 'Donald', 73, 74, 'DonaldDuck', 76, 77, 'Donald', 79, 'Duck', 'Donald', 82, 83, 'Donald', 'Duck', 86, 'Donald', 88, 89, 'DonaldDuck', 91, 92, 'Donald', 94, 'Duck', 'Donald', 97, 98, 'Donald', 'Duck')\n"
     ]
    }
   ],
   "source": [
    "t = list(t)\n",
    "for n, elem in enumerate(t):\n",
    "    if type(elem) == str:\n",
    "        if 'Mickey' in elem: \n",
    "            elem = elem.replace('Mickey', 'Donald')\n",
    "        if 'Mouse' in elem:\n",
    "            elem = elem.replace('Mouse', 'Duck')\n",
    "        t[n] = elem\n",
    "\n",
    "t = tuple(t)\n",
    "print(t)\n",
    "          "
   ]
  },
  {
   "cell_type": "markdown",
   "id": "cabd119e",
   "metadata": {},
   "source": [
    "\n",
    "2. The swap function\n",
    "\n",
    "Write a function that swap the values of two input variables x and y (whatever the type). Try to do that also without a temporary variable\n"
   ]
  },
  {
   "cell_type": "code",
   "execution_count": 29,
   "id": "6f493d54",
   "metadata": {},
   "outputs": [
    {
     "name": "stdout",
     "output_type": "stream",
     "text": [
      "('hello', 2)\n"
     ]
    }
   ],
   "source": [
    "def swap(x, y):\n",
    "    return y, x\n",
    "\n",
    "x, y = 2, 'hello'\n",
    "print(swap(x, y))"
   ]
  },
  {
   "cell_type": "markdown",
   "id": "924e3466",
   "metadata": {},
   "source": [
    "\n",
    "3. Computing the distance\n",
    "\n",
    "Write a function that calculates and returns the euclidean distance between two points u and v, where u and v are both 2-tuples (x,y). For example, if u=(3,0) and v=(0,4), the function should return 5\n"
   ]
  },
  {
   "cell_type": "code",
   "execution_count": 30,
   "id": "49ba34ae",
   "metadata": {},
   "outputs": [
    {
     "name": "stdout",
     "output_type": "stream",
     "text": [
      "5.0\n"
     ]
    }
   ],
   "source": [
    "def dist(u, v):\n",
    "    d_squared = 0\n",
    "    for u_elem, v_elem in zip(u, v):\n",
    "        d_squared += (u_elem - v_elem)**2\n",
    "    return d_squared**(0.5)\n",
    "\n",
    "u, v = (3, 0), (0, 4)\n",
    "print(dist(u, v))"
   ]
  },
  {
   "cell_type": "markdown",
   "id": "1712dbf6",
   "metadata": {},
   "source": [
    "\n",
    "\n",
    "4. Counting letters\n",
    "\n",
    "Write a program to calculate the number of times each character occurs in a given string s. Ignore differneces in capitalization\n",
    "\n",
    "s=\"Write a program that prints the numbers from 1 to 100. \\\n",
    "But for multiples of three print Mickey instead of the number and for the multiples of five print Mouse. \\\n",
    "For numbers which are multiples of both three and five print MickeyMouse\"\n",
    "\n"
   ]
  },
  {
   "cell_type": "code",
   "execution_count": 38,
   "id": "bb60e7e6",
   "metadata": {},
   "outputs": [
    {
     "name": "stdout",
     "output_type": "stream",
     "text": [
      "write a program that prints the numbers from 1 to 100. but for multiples of three print mickey instead of the number and for the multiples of five print mouse. for numbers which are multiples of both three and five print mickeymouse\n",
      "\n",
      " {'0', 'g', 'o', 'h', 'w', 'm', 'e', 't', 'k', 'u', '.', 'a', 'v', 'f', '1', 'n', ' ', 'd', 'y', 'i', 'p', 's', 'b', 'r', 'l', 'c'}\n",
      "\n",
      " {'0': 2, 'g': 1, 'o': 13, 'h': 9, 'w': 2, 'm': 12, 'e': 22, 't': 19, 'k': 2, 'u': 9, '.': 2, 'a': 7, 'v': 2, 'f': 10, '1': 2, 'n': 10, ' ': 41, 'd': 3, 'y': 2, 'i': 14, 'p': 8, 's': 9, 'b': 5, 'r': 17, 'l': 6, 'c': 3}\n"
     ]
    }
   ],
   "source": [
    "s=\"Write a program that prints the numbers from 1 to 100. \\\n",
    "But for multiples of three print Mickey instead of the number and for the multiples of five print Mouse. \\\n",
    "For numbers which are multiples of both three and five print MickeyMouse\"\n",
    "\n",
    "s = s.lower()\n",
    "print(s)\n",
    "\n",
    "uniques = {x for x in s}\n",
    "print('\\n', uniques)\n",
    "\n",
    "freq = {}\n",
    "for elem in uniques:\n",
    "    count = s.count(elem)\n",
    "    freq[elem] = count\n",
    "\n",
    "print('\\n', freq)\n",
    "    "
   ]
  },
  {
   "cell_type": "markdown",
   "id": "7ee7caa2",
   "metadata": {},
   "source": [
    "\n",
    "\n",
    "5. Isolating the unique\n",
    "\n",
    "Write a function that determines and count the unique numbers in the list l\n",
    "\n",
    "l = [36, 45, 58, 3, 74, 96, 64, 45, 31, 10, 24, 19, 33, 86, 99, 18, 63, 70, 85,\n",
    " 85, 63, 47, 56, 42, 70, 84, 88, 55, 20, 54, 8, 56, 51, 79, 81, 57, 37, 91,\n",
    " 1, 84, 84, 36, 66, 9, 89, 50, 42, 91, 50, 95, 90, 98, 39, 16, 82, 31, 92, 41,\n",
    " 45, 30, 66, 70, 34, 85, 94, 5, 3, 36, 72, 91, 84, 34, 87, 75, 53, 51, 20, 89, 51, 20]\n",
    "\n"
   ]
  },
  {
   "cell_type": "code",
   "execution_count": 41,
   "id": "b0ccf961",
   "metadata": {},
   "outputs": [
    {
     "name": "stdout",
     "output_type": "stream",
     "text": [
      "54\n"
     ]
    }
   ],
   "source": [
    "def uniques(l):\n",
    "    l_set = {x for x in l}\n",
    "    return len(l_set)\n",
    "\n",
    "l = [36, 45, 58, 3, 74, 96, 64, 45, 31, 10, 24, 19, 33, 86, 99, 18, 63, \n",
    "     70, 85, 85, 63, 47, 56, 42, 70, 84, 88, 55, 20, 54, 8, 56, 51, 79, \n",
    "     81, 57, 37, 91, 1, 84, 84, 36, 66, 9, 89, 50, 42, 91, 50, 95, 90, \n",
    "     98, 39, 16, 82, 31, 92, 41, 45, 30, 66, 70, 34, 85, 94, 5, 3, 36, \n",
    "     72, 91, 84, 34, 87, 75, 53, 51, 20, 89, 51, 20]\n",
    "\n",
    "print(uniques(l))"
   ]
  },
  {
   "cell_type": "markdown",
   "id": "0d9a083e",
   "metadata": {},
   "source": [
    "\n",
    "\n",
    "6. Combination of functions\n",
    "\n",
    "Write two functions - one that returns the square of a number, and one that returns the cube. Now write a third function that returns the number raised to the 6th power using the two previous functions.\n"
   ]
  },
  {
   "cell_type": "code",
   "execution_count": 42,
   "id": "9010f9ad",
   "metadata": {},
   "outputs": [
    {
     "name": "stdout",
     "output_type": "stream",
     "text": [
      "64\n"
     ]
    }
   ],
   "source": [
    "def square(n):\n",
    "    return n**2\n",
    "\n",
    "def cube(n):\n",
    "    return n**3\n",
    "\n",
    "def sixth(n):\n",
    "    return square(cube(n))\n",
    "\n",
    "n = 2\n",
    "print(sixth(n))"
   ]
  },
  {
   "cell_type": "markdown",
   "id": "79ecfcc3",
   "metadata": {},
   "source": [
    "\n",
    "\n",
    "7. Cubes\n",
    "\n",
    "Create a list of the cubes of x for x in [0, 10] using:\n",
    "\n",
    "a) a for loop\n",
    "\n",
    "b) a list comprehension\n"
   ]
  },
  {
   "cell_type": "code",
   "execution_count": 45,
   "id": "e9856be1",
   "metadata": {},
   "outputs": [
    {
     "name": "stdout",
     "output_type": "stream",
     "text": [
      "[0, 1, 8, 27, 64, 125, 216, 343, 512, 729, 1000]\n"
     ]
    }
   ],
   "source": [
    "cubes = []\n",
    "for x in range(11):\n",
    "    cubes.append(x**3)\n",
    "    \n",
    "print(cubes)    "
   ]
  },
  {
   "cell_type": "code",
   "execution_count": 44,
   "id": "20a2128d",
   "metadata": {},
   "outputs": [
    {
     "name": "stdout",
     "output_type": "stream",
     "text": [
      "[0, 1, 8, 27, 64, 125, 216, 343, 512, 729, 1000]\n"
     ]
    }
   ],
   "source": [
    "cubes = [x**3 for x in range(0, 11)]\n",
    "print(cubes)"
   ]
  },
  {
   "cell_type": "markdown",
   "id": "84202e67",
   "metadata": {},
   "source": [
    "\n",
    "\n",
    "8. Nested list comprehension\n",
    "\n",
    "A Pythagorean triple is an integer solution to the Pythagorean theorem\n",
    ". The first Pythagorean triple is (3,4,5). Find and put in a tuple all unique Pythagorean triples for the positive integers a, b and c less than 100."
   ]
  },
  {
   "cell_type": "code",
   "execution_count": 64,
   "id": "65559e54",
   "metadata": {},
   "outputs": [
    {
     "name": "stdout",
     "output_type": "stream",
     "text": [
      "50 \n",
      " [(9, 16, 25), (36, 64, 100), (25, 144, 169), (81, 144, 225), (64, 225, 289), (144, 256, 400), (49, 576, 625), (225, 400, 625), (100, 576, 676), (400, 441, 841), (324, 576, 900), (256, 900, 1156), (441, 784, 1225), (144, 1225, 1369), (225, 1296, 1521), (576, 1024, 1600), (81, 1600, 1681), (729, 1296, 2025), (196, 2304, 2500), (900, 1600, 2500), (576, 2025, 2601), (400, 2304, 2704), (784, 2025, 2809), (1089, 1936, 3025), (1600, 1764, 3364), (1296, 2304, 3600), (121, 3600, 3721), (256, 3969, 4225), (625, 3600, 4225), (1089, 3136, 4225), (1521, 2704, 4225), (1024, 3600, 4624), (1764, 3136, 4900), (2304, 3025, 5329), (576, 4900, 5476), (441, 5184, 5625), (2025, 3600, 5625), (900, 5184, 6084), (2304, 4096, 6400), (324, 6400, 6724), (169, 7056, 7225), (1296, 5929, 7225), (1600, 5625, 7225), (2601, 4624, 7225), (3600, 3969, 7569), (1521, 6400, 7921), (2916, 5184, 8100), (1225, 7056, 8281), (3249, 5776, 9025), (4225, 5184, 9409)]\n"
     ]
    }
   ],
   "source": [
    "squared = [x**2 for x in range(1, 100)]\n",
    "\n",
    "triplets = []\n",
    "for c_pos, c in enumerate(squared):\n",
    "    b_sub_list = squared[:c_pos]\n",
    "    b_sub_list.reverse()    \n",
    "        \n",
    "    for b_pos, b in enumerate(b_sub_list):\n",
    "        a = c - b\n",
    "        a_sub_list = b_sub_list[b_pos:]\n",
    "        if a in a_sub_list:\n",
    "            triplets.append((a, b, c))\n",
    "            \n",
    "print(len(triplets), '\\n', triplets)\n",
    "\n",
    "    \n",
    "    \n",
    "    \n",
    "        "
   ]
  },
  {
   "cell_type": "markdown",
   "id": "c850f468",
   "metadata": {},
   "source": [
    "\n",
    "\n",
    "9. Normalization\n",
    "\n",
    "Write a function that takes a tuple of numbers and returns it with the entries normalized to one\n"
   ]
  },
  {
   "cell_type": "code",
   "execution_count": 73,
   "id": "5ac4bbf8",
   "metadata": {},
   "outputs": [
    {
     "name": "stdout",
     "output_type": "stream",
     "text": [
      "(1, 2, 3, 4, 5, 6, 7, 8, 9)\n",
      "(0.0, 0.125, 0.25, 0.375, 0.5, 0.625, 0.75, 0.875, 1.0)\n"
     ]
    }
   ],
   "source": [
    "def norm(x, maxim, minim):\n",
    "    numerator = x - minim\n",
    "    denominator = maxim - minim\n",
    "    return numerator/denominator\n",
    "\n",
    "def conv(nums):\n",
    "    maxim = max(nums)\n",
    "    minim = min(nums)\n",
    "    norm_list = [norm(x, maxim, minim) for x in nums]\n",
    "    return tuple(norm_list)\n",
    "\n",
    "t = (1, 2, 3, 4, 5, 6, 7, 8, 9)\n",
    "print(t)\n",
    "print(conv(t))\n",
    "    "
   ]
  },
  {
   "cell_type": "code",
   "execution_count": null,
   "id": "5394c5a4",
   "metadata": {},
   "outputs": [],
   "source": []
  }
 ],
 "metadata": {
  "kernelspec": {
   "display_name": "Python 3 (ipykernel)",
   "language": "python",
   "name": "python3"
  },
  "language_info": {
   "codemirror_mode": {
    "name": "ipython",
    "version": 3
   },
   "file_extension": ".py",
   "mimetype": "text/x-python",
   "name": "python",
   "nbconvert_exporter": "python",
   "pygments_lexer": "ipython3",
   "version": "3.9.12"
  }
 },
 "nbformat": 4,
 "nbformat_minor": 5
}

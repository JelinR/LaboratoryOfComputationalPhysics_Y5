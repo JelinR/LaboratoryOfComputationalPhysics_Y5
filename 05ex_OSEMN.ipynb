{
 "cells": [
  {
   "cell_type": "markdown",
   "metadata": {},
   "source": [
    "# OSEMN Exercises"
   ]
  },
  {
   "cell_type": "code",
   "execution_count": 1,
   "metadata": {},
   "outputs": [],
   "source": [
    "%matplotlib inline\n",
    "import pandas as pd\n",
    "import numpy as np"
   ]
  },
  {
   "cell_type": "markdown",
   "metadata": {},
   "source": [
    "1\\. Create a random list of number and then save it to a text file named \"simple_data.txt\""
   ]
  },
  {
   "cell_type": "code",
   "execution_count": 2,
   "metadata": {},
   "outputs": [],
   "source": [
    "nums = str(np.random.rand(1, 10).tolist())\n",
    "\n",
    "simple_data = open(\"simple_data.txt\", \"w\")\n",
    "simple_data.write(nums)\n",
    "\n",
    "with open(\"simple_data.txt\", mode='r') as file:\n",
    "    #print(file.read())\n",
    "    for line in file:\n",
    "        print(line)"
   ]
  },
  {
   "cell_type": "markdown",
   "metadata": {},
   "source": [
    "2\\. Create a random matrix of 5x5 and then save it to a text file named \"data.txt\""
   ]
  },
  {
   "cell_type": "code",
   "execution_count": 3,
   "metadata": {},
   "outputs": [
    {
     "name": "stdout",
     "output_type": "stream",
     "text": [
      "\n"
     ]
    }
   ],
   "source": [
    "matrix = str(np.random.rand(5, 5))\n",
    "\n",
    "data = open(\"data.txt\", \"w\")\n",
    "data.write(matrix)\n",
    "\n",
    "with open(\"data.txt\", mode='r') as file:\n",
    "    print(file.read())"
   ]
  },
  {
   "cell_type": "markdown",
   "metadata": {},
   "source": [
    "3\\. Load the saved txt file of point 2 and convert it to a csv file (by hand)"
   ]
  },
  {
   "cell_type": "code",
   "execution_count": 4,
   "metadata": {},
   "outputs": [
    {
     "name": "stdout",
     "output_type": "stream",
     "text": [
      "[]\n",
      "['0.30946007']\n",
      "[]\n",
      "['0.61928701']\n",
      "[]\n",
      "['0.45471533']\n",
      "[]\n",
      "['0.67742666']\n",
      "[]\n",
      "['0.79705252']\n",
      "[]\n",
      "['0.20775138']\n",
      "[]\n",
      "['0.84541612']\n",
      "[]\n",
      "['0.2031521']\n",
      "[]\n",
      "['0.77940304']\n",
      "[]\n",
      "['0.84339174']\n",
      "[]\n",
      "['0.00487514']\n",
      "[]\n",
      "['0.17237422']\n",
      "[]\n",
      "['0.7957159']\n",
      "[]\n",
      "['0.09363101']\n",
      "[]\n",
      "['0.27577317']\n",
      "[]\n",
      "['0.48556363']\n",
      "[]\n",
      "['0.8837576']\n",
      "[]\n",
      "['0.24112456']\n",
      "[]\n",
      "['0.72180731']\n",
      "[]\n",
      "['0.16604715']\n",
      "[]\n",
      "['0.16579532']\n",
      "[]\n",
      "['0.28890761']\n",
      "[]\n",
      "['0.20426058']\n",
      "[]\n",
      "['0.25234937']\n",
      "[]\n",
      "['0.80630909']\n",
      "[]\n",
      "['0.30946007']\n",
      "[]\n",
      "['0.61928701']\n",
      "[]\n",
      "['0.45471533']\n",
      "[]\n",
      "['0.67742666']\n",
      "[]\n",
      "['0.79705252']\n",
      "[]\n",
      "['0.20775138']\n",
      "[]\n",
      "['0.84541612']\n",
      "[]\n",
      "['0.2031521']\n",
      "[]\n",
      "['0.77940304']\n",
      "[]\n",
      "['0.84339174']\n",
      "[]\n",
      "['0.00487514']\n",
      "[]\n",
      "['0.17237422']\n",
      "[]\n",
      "['0.7957159']\n",
      "[]\n",
      "['0.09363101']\n",
      "[]\n",
      "['0.27577317']\n",
      "[]\n",
      "['0.48556363']\n",
      "[]\n",
      "['0.8837576']\n",
      "[]\n",
      "['0.24112456']\n",
      "[]\n",
      "['0.72180731']\n",
      "[]\n",
      "['0.16604715']\n",
      "[]\n",
      "['0.16579532']\n",
      "[]\n",
      "['0.28890761']\n",
      "[]\n",
      "['0.20426058']\n",
      "[]\n",
      "['0.25234937']\n",
      "[]\n",
      "['0.80630909']\n",
      "[]\n",
      "['0.30946007']\n",
      "[]\n",
      "['0.61928701']\n",
      "[]\n",
      "['0.45471533']\n",
      "[]\n",
      "['0.67742666']\n",
      "[]\n",
      "['0.79705252']\n",
      "[]\n",
      "['0.20775138']\n",
      "[]\n",
      "['0.84541612']\n",
      "[]\n",
      "['0.2031521']\n",
      "[]\n",
      "['0.77940304']\n",
      "[]\n",
      "['0.84339174']\n",
      "[]\n",
      "['0.00487514']\n",
      "[]\n",
      "['0.17237422']\n",
      "[]\n",
      "['0.7957159']\n",
      "[]\n",
      "['0.09363101']\n",
      "[]\n",
      "['0.27577317']\n",
      "[]\n",
      "['0.48556363']\n",
      "[]\n",
      "['0.8837576']\n",
      "[]\n",
      "['0.24112456']\n",
      "[]\n",
      "['0.72180731']\n",
      "[]\n",
      "['0.16604715']\n",
      "[]\n",
      "['0.16579532']\n",
      "[]\n",
      "['0.28890761']\n",
      "[]\n",
      "['0.20426058']\n",
      "[]\n",
      "['0.25234937']\n",
      "[]\n",
      "['0.80630909']\n",
      "[]\n",
      "['0.30946007']\n",
      "[]\n",
      "['0.61928701']\n",
      "[]\n",
      "['0.45471533']\n",
      "[]\n",
      "['0.67742666']\n",
      "[]\n",
      "['0.79705252']\n",
      "[]\n",
      "['0.20775138']\n",
      "[]\n",
      "['0.84541612']\n",
      "[]\n",
      "['0.2031521']\n",
      "[]\n",
      "['0.77940304']\n",
      "[]\n",
      "['0.84339174']\n",
      "[]\n",
      "['0.00487514']\n",
      "[]\n",
      "['0.17237422']\n",
      "[]\n",
      "['0.7957159']\n",
      "[]\n",
      "['0.09363101']\n",
      "[]\n",
      "['0.27577317']\n",
      "[]\n",
      "['0.48556363']\n",
      "[]\n",
      "['0.8837576']\n",
      "[]\n",
      "['0.24112456']\n",
      "[]\n",
      "['0.72180731']\n",
      "[]\n",
      "['0.16604715']\n",
      "[]\n",
      "['0.16579532']\n",
      "[]\n",
      "['0.28890761']\n",
      "[]\n",
      "['0.20426058']\n",
      "[]\n",
      "['0.25234937']\n",
      "[]\n",
      "['0.80630909']\n",
      "[]\n"
     ]
    }
   ],
   "source": [
    "import csv\n",
    "\n",
    "with open(\"data.txt\", mode='r+') as file:\n",
    "    lines = []\n",
    "    for line in file:\n",
    "        line = line.replace(' [', '[')\n",
    "        line = line.replace('[', '')\n",
    "        line = line.replace(']]', '')\n",
    "        line = line.replace(']', ',')\n",
    "        line = line.replace('  ', ',')\n",
    "        line = line.replace(' ', ',')\n",
    "\n",
    "        print('Line: ', line)\n",
    "\n",
    "        lines += line.split(\",\")\n",
    "\n",
    "while '\\n' in lines:\n",
    "    lines.remove('\\n')\n",
    "\n",
    "lines = [[x] for x in lines]\n",
    "\n",
    "print(lines)\n",
    "\n",
    "\n",
    "    \n",
    "\n",
    "with open(\"data.csv\", 'r+') as file_csv:\n",
    "    writer = csv.writer(file_csv)\n",
    "    writer.writerows(lines)\n",
    "    for line in csv.reader(file_csv, delimiter=','):\n",
    "        print(line)\n"
   ]
  },
  {
   "cell_type": "markdown",
   "metadata": {},
   "source": [
    "4\\. load the binary file named *credit_card.dat* and convert the data into the real credit-card number.\n",
    "Each line correspond to a credit card number.\n",
    "Each character is composed by 6 bit (even the space) and the last 4 bit are just a padding\n",
    "\n",
    "**hint**: use the `chr()` function to convert a number to a char"
   ]
  },
  {
   "cell_type": "code",
   "execution_count": 5,
   "metadata": {},
   "outputs": [
    {
     "ename": "NameError",
     "evalue": "name 'a' is not defined",
     "output_type": "error",
     "traceback": [
      "\u001b[1;31m---------------------------------------------------------------------------\u001b[0m",
      "\u001b[1;31mNameError\u001b[0m                                 Traceback (most recent call last)",
      "\u001b[1;32mc:\\Users\\Admin\\Documents\\GitHub\\LaboratoryOfComputationalPhysics_Y5\\05ex_OSEMN.ipynb Cell 10\u001b[0m in \u001b[0;36m<cell line: 1>\u001b[1;34m()\u001b[0m\n\u001b[0;32m     <a href='vscode-notebook-cell:/c%3A/Users/Admin/Documents/GitHub/LaboratoryOfComputationalPhysics_Y5/05ex_OSEMN.ipynb#X12sZmlsZQ%3D%3D?line=12'>13</a>\u001b[0m     data_split\u001b[39m.\u001b[39mremove(elem)            \n\u001b[0;32m     <a href='vscode-notebook-cell:/c%3A/Users/Admin/Documents/GitHub/LaboratoryOfComputationalPhysics_Y5/05ex_OSEMN.ipynb#X12sZmlsZQ%3D%3D?line=13'>14</a>\u001b[0m     \u001b[39mcontinue\u001b[39;00m\n\u001b[1;32m---> <a href='vscode-notebook-cell:/c%3A/Users/Admin/Documents/GitHub/LaboratoryOfComputationalPhysics_Y5/05ex_OSEMN.ipynb#X12sZmlsZQ%3D%3D?line=15'>16</a>\u001b[0m split \u001b[39m=\u001b[39m [a[i:i\u001b[39m+\u001b[39m\u001b[39m6\u001b[39m] \u001b[39mfor\u001b[39;00m i \u001b[39min\u001b[39;00m vals]\n\u001b[0;32m     <a href='vscode-notebook-cell:/c%3A/Users/Admin/Documents/GitHub/LaboratoryOfComputationalPhysics_Y5/05ex_OSEMN.ipynb#X12sZmlsZQ%3D%3D?line=17'>18</a>\u001b[0m elem_char \u001b[39m=\u001b[39m \u001b[39m'\u001b[39m\u001b[39m'\u001b[39m\n\u001b[0;32m     <a href='vscode-notebook-cell:/c%3A/Users/Admin/Documents/GitHub/LaboratoryOfComputationalPhysics_Y5/05ex_OSEMN.ipynb#X12sZmlsZQ%3D%3D?line=18'>19</a>\u001b[0m \u001b[39mfor\u001b[39;00m val \u001b[39min\u001b[39;00m split:\n",
      "\u001b[1;32mc:\\Users\\Admin\\Documents\\GitHub\\LaboratoryOfComputationalPhysics_Y5\\05ex_OSEMN.ipynb Cell 10\u001b[0m in \u001b[0;36m<listcomp>\u001b[1;34m(.0)\u001b[0m\n\u001b[0;32m     <a href='vscode-notebook-cell:/c%3A/Users/Admin/Documents/GitHub/LaboratoryOfComputationalPhysics_Y5/05ex_OSEMN.ipynb#X12sZmlsZQ%3D%3D?line=12'>13</a>\u001b[0m     data_split\u001b[39m.\u001b[39mremove(elem)            \n\u001b[0;32m     <a href='vscode-notebook-cell:/c%3A/Users/Admin/Documents/GitHub/LaboratoryOfComputationalPhysics_Y5/05ex_OSEMN.ipynb#X12sZmlsZQ%3D%3D?line=13'>14</a>\u001b[0m     \u001b[39mcontinue\u001b[39;00m\n\u001b[1;32m---> <a href='vscode-notebook-cell:/c%3A/Users/Admin/Documents/GitHub/LaboratoryOfComputationalPhysics_Y5/05ex_OSEMN.ipynb#X12sZmlsZQ%3D%3D?line=15'>16</a>\u001b[0m split \u001b[39m=\u001b[39m [a[i:i\u001b[39m+\u001b[39m\u001b[39m6\u001b[39m] \u001b[39mfor\u001b[39;00m i \u001b[39min\u001b[39;00m vals]\n\u001b[0;32m     <a href='vscode-notebook-cell:/c%3A/Users/Admin/Documents/GitHub/LaboratoryOfComputationalPhysics_Y5/05ex_OSEMN.ipynb#X12sZmlsZQ%3D%3D?line=17'>18</a>\u001b[0m elem_char \u001b[39m=\u001b[39m \u001b[39m'\u001b[39m\u001b[39m'\u001b[39m\n\u001b[0;32m     <a href='vscode-notebook-cell:/c%3A/Users/Admin/Documents/GitHub/LaboratoryOfComputationalPhysics_Y5/05ex_OSEMN.ipynb#X12sZmlsZQ%3D%3D?line=18'>19</a>\u001b[0m \u001b[39mfor\u001b[39;00m val \u001b[39min\u001b[39;00m split:\n",
      "\u001b[1;31mNameError\u001b[0m: name 'a' is not defined"
     ]
    }
   ],
   "source": [
    "with open('credit_card.dat', 'rb') as file:\n",
    "    data = file.read()\n",
    "    data_str = str(data)[2:-1]\n",
    "\n",
    "    data_split = data_str.split(\"\\\\r\\\\n\")[:-1]\n",
    "\n",
    "    range_val = len(data_split[0]) // 6\n",
    "    vals = [6*x for x in range(range_val)]\n",
    "    data_chars = []\n",
    "\n",
    "    for count, elem in enumerate(data_split):\n",
    "        if len(elem) != 118: \n",
    "            data_split.remove(elem)            \n",
    "            continue\n",
    "\n",
    "        split = [a[i:i+6] for i in vals]\n",
    "\n",
    "        elem_char = ''\n",
    "        for val in split:\n",
    "            val_int = int(val, 2)\n",
    "            val_char = chr(val_int)\n",
    "            elem_char += val_char\n",
    "        \n",
    "        data_chars.append(elem_char)\n",
    "\n",
    "    print(data_chars)\n"
   ]
  },
  {
   "cell_type": "markdown",
   "metadata": {},
   "source": [
    "5\\. Load the file \"user_data.json\", filter the data by the \"CreditCardType\" field equals to \"American Express\". Than save the data a to CSV."
   ]
  },
  {
   "cell_type": "code",
   "execution_count": null,
   "metadata": {},
   "outputs": [
    {
     "name": "stdout",
     "output_type": "stream",
     "text": [
      "ID,JobTitle,EmailAddress,FirstNameLastName,CreditCard,CreditCardType\n",
      "\n",
      "\n",
      "\n",
      "2,Investment  Advisor,Clint_Thorpe5003@bulaffy.com,Clint Thorpe,7083-8766-0251-2345,American Express\n",
      "\n",
      "\n",
      "\n",
      "12,Retail Trainee,Phillip_Carpenter9505@famism.biz,Phillip Carpenter,3657-0088-0820-5247,American Express\n",
      "\n"
     ]
    }
   ],
   "source": [
    "import numpy as np\n",
    "import csv\n",
    "import json\n",
    "data = json.load(open('user_data.json'))\n",
    "data = np.array(data)\n",
    "\n",
    "keys = data[0].keys()\n",
    "mask = [False for x in range(len(data))]\n",
    "\n",
    "for count, dictionary in enumerate(data):\n",
    "    if dictionary['CreditCardType'] == 'American Express':\n",
    "        mask[count] = True\n",
    "\n",
    "\n",
    "filtered = data[mask]\n",
    "\n",
    "with open('user_data.csv', mode='w') as file:\n",
    "    writer = csv.writer(file)\n",
    "    writer.writerow(list(filtered[0].keys()))\n",
    "    for elem in filtered:\n",
    "        writer.writerow(list(elem.values()))\n",
    "\n",
    "with open('user_data.csv', mode='r') as file:\n",
    "    for count, line in enumerate(file):\n",
    "        print(line)\n",
    "        if count>3: break       \n"
   ]
  },
  {
   "cell_type": "markdown",
   "metadata": {},
   "source": [
    "6\\. Load the file from this url: [https://www.dropbox.com/s/7u3lm737ogbqsg8/mushrooms_categorized.csv?dl=1](https://www.dropbox.com/s/7u3lm737ogbqsg8/mushrooms_categorized.csv?dl=1) with Pandas. \n",
    "+ Explore the data (see the info of the data)\n",
    "+ Draw the istogram of the 'class' field. Decribe wath yuou see\n"
   ]
  },
  {
   "cell_type": "code",
   "execution_count": null,
   "metadata": {},
   "outputs": [],
   "source": [
    "url = 'https://www.dropbox.com/s/7u3lm737ogbqsg8/mushrooms_categorized.csv?dl=1'\n",
    "\n",
    "data = pd.read_csv(url)\n",
    "print(data['class'])"
   ]
  },
  {
   "cell_type": "code",
   "execution_count": 20,
   "metadata": {},
   "outputs": [
    {
     "name": "stdout",
     "output_type": "stream",
     "text": [
      "Number of Columns:  23\n",
      "Column Names:  Index(['class', 'cap-shape', 'cap-surface', 'cap-color', 'bruises', 'odor',\n",
      "       'gill-attachment', 'gill-spacing', 'gill-size', 'gill-color',\n",
      "       'stalk-shape', 'stalk-root', 'stalk-surface-above-ring',\n",
      "       'stalk-surface-below-ring', 'stalk-color-above-ring',\n",
      "       'stalk-color-below-ring', 'veil-type', 'veil-color', 'ring-number',\n",
      "       'ring-type', 'spore-print-color', 'population', 'habitat'],\n",
      "      dtype='object')\n",
      "The histogram tells us that the class is a binary variable.  It has more number of zeros than one.\n"
     ]
    },
    {
     "data": {
      "image/png": "[encoded data removed]",
      "text/plain": [
       "<Figure size 432x288 with 1 Axes>"
      ]
     },
     "metadata": {
      "needs_background": "light"
     },
     "output_type": "display_data"
    }
   ],
   "source": [
    "print('Number of Columns: ', len(data.columns))\n",
    "print('Column Names: ', data.columns)\n",
    "\n",
    "data_class = data['class']\n",
    "data_class.hist()\n",
    "\n",
    "print('The histogram tells us that the class is a binary variable.  It has more number of zeros than one.')"
   ]
  },
  {
   "cell_type": "markdown",
   "metadata": {},
   "source": [
    "7\\. Load the remote file [https://www.dropbox.com/s/vkl89yce7xjdq4n/regression_generated.csv?dl=1](https://www.dropbox.com/s/vkl89yce7xjdq4n/regression_generated.csv?dl=1) with Pandas and plot a scatter plot all possible combination of the following fields:\n",
    "    \n",
    "  + features_1\n",
    "  + features_2\n",
    "  + features_3"
   ]
  },
  {
   "cell_type": "markdown",
   "metadata": {},
   "source": [
    "8\\. Load the same file of point 6, and convert the file to json with Pandas."
   ]
  }
 ],
 "metadata": {
  "kernelspec": {
   "display_name": "Python 3.9.12 ('base')",
   "language": "python",
   "name": "python3"
  },
  "language_info": {
   "codemirror_mode": {
    "name": "ipython",
    "version": 3
   },
   "file_extension": ".py",
   "mimetype": "text/x-python",
   "name": "python",
   "nbconvert_exporter": "python",
   "pygments_lexer": "ipython3",
   "version": "3.9.12"
  },
  "vscode": {
   "interpreter": {
    "hash": "2043299c89c8cd0b4d1a6f5cf4529bd58e6a4e0fe3181a25e0d328c821cdc5c5"
   }
  }
 },
 "nbformat": 4,
 "nbformat_minor": 2
}

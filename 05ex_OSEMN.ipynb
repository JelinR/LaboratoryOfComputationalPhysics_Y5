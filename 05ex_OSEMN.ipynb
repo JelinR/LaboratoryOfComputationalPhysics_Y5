{
 "cells": [
  {
   "cell_type": "markdown",
   "metadata": {},
   "source": [
    "# OSEMN Exercises"
   ]
  },
  {
   "cell_type": "code",
   "execution_count": 3,
   "metadata": {},
   "outputs": [],
   "source": [
    "%matplotlib inline\n",
    "import pandas as pd\n",
    "import numpy as np"
   ]
  },
  {
   "cell_type": "markdown",
   "metadata": {},
   "source": [
    "1\\. Create a random list of number and then save it to a text file named \"simple_data.txt\""
   ]
  },
  {
   "cell_type": "code",
   "execution_count": 26,
   "metadata": {},
   "outputs": [
    {
     "name": "stdout",
     "output_type": "stream",
     "text": [
      "[[0.631951794903728, 0.4053439095041217, 0.7764772464836199, 0.8725760106932633, 0.48076520345862117, 0.014618726891835188, 0.25269517016402954, 0.4117916974503547, 0.7309787382216788, 0.008997099269288933]]\n"
     ]
    }
   ],
   "source": [
    "nums = str(np.random.rand(1, 10).tolist())\n",
    "\n",
    "simple_data = open(\"simple_data.txt\", \"w\")\n",
    "simple_data.write(nums)\n",
    "\n",
    "with open(\"simple_data.txt\", mode='r') as file:\n",
    "    #print(file.read())\n",
    "    for line in file:\n",
    "        print(line)"
   ]
  },
  {
   "cell_type": "markdown",
   "metadata": {},
   "source": [
    "2\\. Create a random matrix of 5x5 and then save it to a text file named \"data.txt\""
   ]
  },
  {
   "cell_type": "code",
   "execution_count": 36,
   "metadata": {},
   "outputs": [
    {
     "name": "stdout",
     "output_type": "stream",
     "text": [
      "[[0.30946007 0.61928701 0.45471533 0.67742666 0.79705252]\n",
      " [0.20775138 0.84541612 0.2031521  0.77940304 0.84339174]\n",
      " [0.00487514 0.17237422 0.7957159  0.09363101 0.27577317]\n",
      " [0.48556363 0.8837576  0.24112456 0.72180731 0.16604715]\n",
      " [0.16579532 0.28890761 0.20426058 0.25234937 0.80630909]]\n"
     ]
    }
   ],
   "source": [
    "matrix = str(np.random.rand(5, 5))\n",
    "\n",
    "data = open(\"data.txt\", \"w\")\n",
    "data.write(matrix)\n",
    "\n",
    "with open(\"data.txt\", mode='r') as file:\n",
    "    print(file.read())"
   ]
  },
  {
   "cell_type": "markdown",
   "metadata": {},
   "source": [
    "3\\. Load the saved txt file of point 2 and convert it to a csv file (by hand)"
   ]
  },
  {
   "cell_type": "code",
   "execution_count": 26,
   "metadata": {},
   "outputs": [
    {
     "name": "stdout",
     "output_type": "stream",
     "text": [
      "Line:  0.30946007,0.61928701,0.45471533,0.67742666,0.79705252,\n",
      "\n",
      "Line:  0.20775138,0.84541612,0.2031521,0.77940304,0.84339174,\n",
      "\n",
      "Line:  0.00487514,0.17237422,0.7957159,0.09363101,0.27577317,\n",
      "\n",
      "Line:  0.48556363,0.8837576,0.24112456,0.72180731,0.16604715,\n",
      "\n",
      "Line:  0.16579532,0.28890761,0.20426058,0.25234937,0.80630909\n",
      "[['0.30946007'], ['0.61928701'], ['0.45471533'], ['0.67742666'], ['0.79705252'], ['0.20775138'], ['0.84541612'], ['0.2031521'], ['0.77940304'], ['0.84339174'], ['0.00487514'], ['0.17237422'], ['0.7957159'], ['0.09363101'], ['0.27577317'], ['0.48556363'], ['0.8837576'], ['0.24112456'], ['0.72180731'], ['0.16604715'], ['0.16579532'], ['0.28890761'], ['0.20426058'], ['0.25234937'], ['0.80630909']]\n",
      "['0.30946007']\n",
      "[]\n",
      "['0.61928701']\n",
      "[]\n",
      "['0.45471533']\n",
      "[]\n",
      "['0.67742666']\n",
      "[]\n",
      "['0.79705252']\n",
      "[]\n",
      "['0.20775138']\n",
      "[]\n",
      "['0.84541612']\n",
      "[]\n",
      "['0.2031521']\n",
      "[]\n",
      "['0.77940304']\n",
      "[]\n",
      "['0.84339174']\n",
      "[]\n",
      "['0.00487514']\n",
      "[]\n",
      "['0.17237422']\n",
      "[]\n",
      "['0.7957159']\n",
      "[]\n",
      "['0.09363101']\n",
      "[]\n",
      "['0.27577317']\n",
      "[]\n",
      "['0.48556363']\n",
      "[]\n",
      "['0.8837576']\n",
      "[]\n",
      "['0.24112456']\n",
      "[]\n",
      "['0.72180731']\n",
      "[]\n",
      "['0.16604715']\n",
      "[]\n",
      "['0.16579532']\n",
      "[]\n",
      "['0.28890761']\n",
      "[]\n",
      "['0.20426058']\n",
      "[]\n",
      "['0.25234937']\n",
      "[]\n",
      "['0.80630909']\n",
      "[]\n",
      "['0.30946007']\n",
      "[]\n",
      "['0.61928701']\n",
      "[]\n",
      "['0.45471533']\n",
      "[]\n",
      "['0.67742666']\n",
      "[]\n",
      "['0.79705252']\n",
      "[]\n",
      "['0.20775138']\n",
      "[]\n",
      "['0.84541612']\n",
      "[]\n",
      "['0.2031521']\n",
      "[]\n",
      "['0.77940304']\n",
      "[]\n",
      "['0.84339174']\n",
      "[]\n",
      "['0.00487514']\n",
      "[]\n",
      "['0.17237422']\n",
      "[]\n",
      "['0.7957159']\n",
      "[]\n",
      "['0.09363101']\n",
      "[]\n",
      "['0.27577317']\n",
      "[]\n",
      "['0.48556363']\n",
      "[]\n",
      "['0.8837576']\n",
      "[]\n",
      "['0.24112456']\n",
      "[]\n",
      "['0.72180731']\n",
      "[]\n",
      "['0.16604715']\n",
      "[]\n",
      "['0.16579532']\n",
      "[]\n",
      "['0.28890761']\n",
      "[]\n",
      "['0.20426058']\n",
      "[]\n",
      "['0.25234937']\n",
      "[]\n",
      "['0.80630909']\n",
      "[]\n",
      "['0.30946007']\n",
      "[]\n",
      "['0.61928701']\n",
      "[]\n",
      "['0.45471533']\n",
      "[]\n",
      "['0.67742666']\n",
      "[]\n",
      "['0.79705252']\n",
      "[]\n",
      "['0.20775138']\n",
      "[]\n",
      "['0.84541612']\n",
      "[]\n",
      "['0.2031521']\n",
      "[]\n",
      "['0.77940304']\n",
      "[]\n",
      "['0.84339174']\n",
      "[]\n",
      "['0.00487514']\n",
      "[]\n",
      "['0.17237422']\n",
      "[]\n",
      "['0.7957159']\n",
      "[]\n",
      "['0.09363101']\n",
      "[]\n",
      "['0.27577317']\n",
      "[]\n",
      "['0.48556363']\n",
      "[]\n",
      "['0.8837576']\n",
      "[]\n",
      "['0.24112456']\n",
      "[]\n",
      "['0.72180731']\n",
      "[]\n",
      "['0.16604715']\n",
      "[]\n",
      "['0.16579532']\n",
      "[]\n",
      "['0.28890761']\n",
      "[]\n",
      "['0.20426058']\n",
      "[]\n",
      "['0.25234937']\n",
      "[]\n",
      "['0.80630909']\n",
      "[]\n"
     ]
    }
   ],
   "source": [
    "import csv\n",
    "\n",
    "with open(\"data.txt\", mode='r+') as file:\n",
    "    lines = []\n",
    "    for line in file:\n",
    "        line = line.replace(' [', '[')\n",
    "        line = line.replace('[', '')\n",
    "        line = line.replace(']]', '')\n",
    "        line = line.replace(']', ',')\n",
    "        line = line.replace('  ', ',')\n",
    "        line = line.replace(' ', ',')\n",
    "\n",
    "        print('Line: ', line)\n",
    "\n",
    "        lines += line.split(\",\")\n",
    "\n",
    "while '\\n' in lines:\n",
    "    lines.remove('\\n')\n",
    "\n",
    "lines = [[x] for x in lines]\n",
    "\n",
    "print(lines)\n",
    "\n",
    "\n",
    "    \n",
    "\n",
    "with open(\"data.csv\", 'r+') as file_csv:\n",
    "    writer = csv.writer(file_csv)\n",
    "    writer.writerows(lines)\n",
    "    for line in csv.reader(file_csv, delimiter=','):\n",
    "        print(line)\n"
   ]
  },
  {
   "cell_type": "markdown",
   "metadata": {},
   "source": [
    "4\\. load the binary file named *credit_card.dat* and convert the data into the real credit-card number.\n",
    "Each line correspond to a credit card number.\n",
    "Each character is composed by 6 bit (even the space) and the last 4 bit are just a padding\n",
    "\n",
    "**hint**: use the `chr()` function to convert a number to a char"
   ]
  },
  {
   "cell_type": "markdown",
   "metadata": {},
   "source": [
    "5\\. Load the file \"user_data.json\", filter the data by the \"CreditCardType\" field equals to \"American Express\". Than save the data a to CSV."
   ]
  },
  {
   "cell_type": "markdown",
   "metadata": {},
   "source": [
    "6\\. Load the file from this url: [https://www.dropbox.com/s/7u3lm737ogbqsg8/mushrooms_categorized.csv?dl=1](https://www.dropbox.com/s/7u3lm737ogbqsg8/mushrooms_categorized.csv?dl=1) with Pandas. \n",
    "+ Explore the data (see the info of the data)\n",
    "+ Draw the istogram of the 'class' field. Decribe wath yuou see\n"
   ]
  },
  {
   "cell_type": "markdown",
   "metadata": {},
   "source": [
    "7\\. Load the remote file [https://www.dropbox.com/s/vkl89yce7xjdq4n/regression_generated.csv?dl=1](https://www.dropbox.com/s/vkl89yce7xjdq4n/regression_generated.csv?dl=1) with Pandas and plot a scatter plot all possible combination of the following fields:\n",
    "    \n",
    "  + features_1\n",
    "  + features_2\n",
    "  + features_3"
   ]
  },
  {
   "cell_type": "markdown",
   "metadata": {},
   "source": [
    "8\\. Load the same file of point 6, and convert the file to json with Pandas."
   ]
  }
 ],
 "metadata": {
  "kernelspec": {
   "display_name": "Python 3.9.12 ('base')",
   "language": "python",
   "name": "python3"
  },
  "language_info": {
   "codemirror_mode": {
    "name": "ipython",
    "version": 3
   },
   "file_extension": ".py",
   "mimetype": "text/x-python",
   "name": "python",
   "nbconvert_exporter": "python",
   "pygments_lexer": "ipython3",
   "version": "3.9.12"
  },
  "vscode": {
   "interpreter": {
    "hash": "2043299c89c8cd0b4d1a6f5cf4529bd58e6a4e0fe3181a25e0d328c821cdc5c5"
   }
  }
 },
 "nbformat": 4,
 "nbformat_minor": 2
}
